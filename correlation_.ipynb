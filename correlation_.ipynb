{
 "cells": [
  {
   "cell_type": "code",
   "execution_count": 1,
   "metadata": {},
   "outputs": [],
   "source": [
    "import numpy as np\n",
    "import pandas as pd\n",
    "import matplotlib as mpl\n",
    "import matplotlib.pyplot as plt\n",
    "from scipy.stats import pearsonr"
   ]
  },
  {
   "cell_type": "code",
   "execution_count": 2,
   "metadata": {},
   "outputs": [],
   "source": [
    "year_start = 1998\n",
    "year_end = 2018\n",
    "years_iter = range(year_start,year_end)"
   ]
  },
  {
   "cell_type": "markdown",
   "metadata": {},
   "source": [
    "# Read cleaned data"
   ]
  },
  {
   "cell_type": "markdown",
   "metadata": {},
   "source": [
    "- ## MSA data"
   ]
  },
  {
   "cell_type": "code",
   "execution_count": 3,
   "metadata": {},
   "outputs": [],
   "source": [
    "df = {}\n",
    "for year in years_iter:\n",
    "    df[year] = pd.read_csv('data/cleaned/msa_naicssector_cleanedv2_totEmploy_'+str(year)+'.csv')\n",
    "    \n",
    "# used later to rank the MSA's by employment\n",
    "df_2017 = df[2017].copy()"
   ]
  },
  {
   "cell_type": "markdown",
   "metadata": {},
   "source": [
    "- ## State-country data"
   ]
  },
  {
   "cell_type": "code",
   "execution_count": 4,
   "metadata": {},
   "outputs": [],
   "source": [
    "df_state = {}\n",
    "for year in years_iter:\n",
    "    df_state[year] = pd.read_csv('data/cleaned/state_naicssector_cleanedv2_totEmploy_'+str(year)+'.csv')"
   ]
  },
  {
   "cell_type": "markdown",
   "metadata": {},
   "source": [
    "# Merge data"
   ]
  },
  {
   "cell_type": "markdown",
   "metadata": {},
   "source": [
    "- ## MSA"
   ]
  },
  {
   "cell_type": "code",
   "execution_count": 5,
   "metadata": {},
   "outputs": [],
   "source": [
    "for year in years_iter:\n",
    "    df[year] = df[year].set_index(['MSA','NAICS Code'],drop=True)\n",
    "    \n",
    "tot_empl_all = df[year_start]\n",
    "for year in range(year_start+1,year_end):\n",
    "    tot_empl_all = pd.merge(tot_empl_all, df[year],how='inner' ,on=['MSA','NAICS Code'],copy=False )\n",
    "    #df_all.to_csv('data/draft/df_all_merge_'+str(year)+'.csv')\n",
    "    \n",
    "tot_empl_all = tot_empl_all.T\n",
    "tot_empl_all.index = list(years_iter)"
   ]
  },
  {
   "cell_type": "markdown",
   "metadata": {},
   "source": [
    "- ## state-country"
   ]
  },
  {
   "cell_type": "code",
   "execution_count": 6,
   "metadata": {},
   "outputs": [],
   "source": [
    "for year in years_iter:\n",
    "    df_state[year] = df_state[year].set_index(['State','NAICS Code'],drop=True)\n",
    "\n",
    "tot_empl_state_all = df_state[year_start]\n",
    "for year in range(year_start+1,year_end):\n",
    "    tot_empl_state_all = pd.merge(tot_empl_state_all, df_state[year],how='inner' ,on=['State','NAICS Code'],copy=False )\n",
    "    \n",
    "tot_empl_state_all = tot_empl_state_all.T\n",
    "tot_empl_state_all.index = list(years_iter)"
   ]
  },
  {
   "cell_type": "markdown",
   "metadata": {},
   "source": [
    "# Calculate PPC: point percent change"
   ]
  },
  {
   "cell_type": "markdown",
   "metadata": {},
   "source": [
    "- ## MSA"
   ]
  },
  {
   "cell_type": "code",
   "execution_count": 7,
   "metadata": {},
   "outputs": [],
   "source": [
    "window_size = 2\n",
    "\n",
    "tot_empl_ppc = tot_empl_all.pct_change().drop( tot_empl_all.index[0] )*100\n",
    "tot_empl_ppc.loc[2003] = (tot_empl_ppc.loc[2002]+tot_empl_ppc.loc[2004])/2\n",
    "#tot_empl_ppc = tot_empl_ppc.rolling(window=window_size,center=False).mean().drop( tot_empl_ppc.index[:window_size-1] )"
   ]
  },
  {
   "cell_type": "markdown",
   "metadata": {},
   "source": [
    "- ## State-Country"
   ]
  },
  {
   "cell_type": "code",
   "execution_count": 8,
   "metadata": {},
   "outputs": [],
   "source": [
    "tot_empl_state_ppc = tot_empl_state_all.pct_change().drop( tot_empl_state_all.index[0] )*100\n",
    "tot_empl_state_ppc.loc[2003] = (tot_empl_state_ppc.loc[2002]+tot_empl_state_ppc.loc[2004])/2\n",
    "#tot_empl_state_ppc = tot_empl_state_ppc.rolling(window=window_size,center=False).mean().drop( tot_empl_state_ppc.index[:window_size-1] )"
   ]
  },
  {
   "cell_type": "markdown",
   "metadata": {},
   "source": [
    "# Utilities"
   ]
  },
  {
   "cell_type": "markdown",
   "metadata": {},
   "source": [
    "- ## MSA to State "
   ]
  },
  {
   "cell_type": "code",
   "execution_count": 9,
   "metadata": {},
   "outputs": [],
   "source": [
    "MSA_df = pd.read_csv('data/MSA_wikipedia.csv',delimiter='\\t')\n",
    "\n",
    "MSAs = MSA_df['Metropolitan statistical area ']\n",
    "MSA_shorts = MSAs.map(lambda x: x.split(',')[0].split('-')[0].lower() )\n",
    "MSA_shorts_dict = {MSA_shorts.iloc[i]:\n",
    "                   {'MSA': MSAs.iloc[i][:-1],\n",
    "                    'State': MSAs.iloc[i].split(', ')[1].split(' ')[0] } for i in range(len(MSAs))  }\n",
    "\n",
    "\n",
    "state_abbr_df = pd.read_csv('data/state_abbr.csv',delimiter='\\t',names=['State','Abbr.'])\n",
    "state_to_abbr_dict = { state_abbr_df['State'].iloc[i].title()[0:-1] :state_abbr_df['Abbr.'].iloc[i] for i in range(len(state_abbr_df)) }\n",
    "state_to_abbr_dict['United States'] = 'US'\n",
    "\n",
    "abbr_to_state_dict ={ v:k for k,v in state_to_abbr_dict.items()}\n",
    "\n",
    "MSA_to_state_dict = { MSAs.iloc[i][:-1]: MSAs.iloc[i].split(', ')[1].split(' ')[0]  for i in range(len(MSAs))  }"
   ]
  },
  {
   "cell_type": "markdown",
   "metadata": {},
   "source": [
    "- ## Compare MSA data to state and country data"
   ]
  },
  {
   "cell_type": "code",
   "execution_count": 10,
   "metadata": {},
   "outputs": [],
   "source": [
    "def ppc_relative( MSA,NAICS_code ):\n",
    "    return (tot_empl_ppc[ (MSA,NAICS_code) ]-tot_empl_state_ppc[ ( abbr_to_state_dict[MSA_to_state_dict[MSA]] ,NAICS_code) ],\n",
    "            tot_empl_ppc[ (MSA,NAICS_code) ]-tot_empl_state_ppc[ ( 'United States' ,NAICS_code) ] )"
   ]
  },
  {
   "cell_type": "markdown",
   "metadata": {},
   "source": [
    "- ## NAICS Codes"
   ]
  },
  {
   "cell_type": "code",
   "execution_count": 11,
   "metadata": {},
   "outputs": [
    {
     "name": "stderr",
     "output_type": "stream",
     "text": [
      "<ipython-input-11-48819ea87482>:1: ParserWarning: Falling back to the 'python' engine because the 'c' engine does not support regex separators (separators > 1 char and different from '\\s+' are interpreted as regex); you can avoid this warning by specifying engine='python'.\n",
      "  NAICS_df = pd.read_csv('data/NAICS_codes.csv',delimiter='    ')\n"
     ]
    },
    {
     "data": {
      "text/plain": [
       "{'11': 'Agriculture, Forestry, Fishing and Hunting',\n",
       " '21': 'Mining, Quarrying, and Oil and Gas Extraction',\n",
       " '22': 'Utilities',\n",
       " '23': 'Construction',\n",
       " '31-33': 'Manufacturing',\n",
       " '42': 'Wholesale Trade',\n",
       " '44-45': 'Retail Trade',\n",
       " '48-49': 'Transportation and Warehousing',\n",
       " '51': 'Information',\n",
       " '52': 'Finance and Insurance',\n",
       " '53': 'Real Estate and Rental and Leasing',\n",
       " '54': 'Professional, Scientific, and Technical Services',\n",
       " '55': 'Management of Companies and Enterprises',\n",
       " '56': 'Administrative and Support and Waste Management and Remediation Services',\n",
       " '61': 'Educational Services',\n",
       " '62': 'Health Care and Social Assistance',\n",
       " '71': 'Arts, Entertainment, and Recreation',\n",
       " '72': 'Accommodation and Food Services',\n",
       " '81': 'Other Services (except Public Administration)',\n",
       " '92': 'Public Administration',\n",
       " '99': 'Unclassified',\n",
       " '--': 'Total'}"
      ]
     },
     "execution_count": 11,
     "metadata": {},
     "output_type": "execute_result"
    }
   ],
   "source": [
    "NAICS_df = pd.read_csv('data/NAICS_codes.csv',delimiter='    ')\n",
    "NAICS_dict = { NAICS_df['NAICS Code'].iloc[i]:NAICS_df['Description'].iloc[i] for i in NAICS_df.index }\n",
    "NAICS_dict['--'] = 'Total'\n",
    "NAICS_dict"
   ]
  },
  {
   "cell_type": "markdown",
   "metadata": {},
   "source": [
    "- ## MSA rank by total Employment"
   ]
  },
  {
   "cell_type": "code",
   "execution_count": 12,
   "metadata": {},
   "outputs": [],
   "source": [
    "msa_emp_rank_df =  df_2017[ df_2017['NAICS Code']=='--' ].sort_values(by='Total Employment - 2017',ascending=False).reset_index(drop=True)\n",
    "del msa_emp_rank_df['NAICS Code'], msa_emp_rank_df['Total Employment - 2017']\n",
    "msa_emp_rank_df_dict = {i:msa_emp_rank_df['MSA'].iloc[i] for i in range(len(msa_emp_rank_df))  }"
   ]
  },
  {
   "cell_type": "markdown",
   "metadata": {},
   "source": [
    "- ## Print Info"
   ]
  },
  {
   "cell_type": "code",
   "execution_count": null,
   "metadata": {},
   "outputs": [],
   "source": []
  },
  {
   "cell_type": "code",
   "execution_count": null,
   "metadata": {},
   "outputs": [],
   "source": []
  },
  {
   "cell_type": "markdown",
   "metadata": {},
   "source": [
    "# House data\n",
    "- ## Read, clean and Calculate PPC"
   ]
  },
  {
   "cell_type": "code",
   "execution_count": 13,
   "metadata": {},
   "outputs": [],
   "source": [
    "house_df = pd.read_csv('data/other-data/Metro_zhvi_uc_sfrcondo_tier_0.33_0.67_sm_sa_mon.csv')\n",
    "del house_df['RegionID'], house_df['SizeRank'], house_df['RegionType'], house_df['StateName']\n",
    "house_df.set_index('RegionName',drop=True,inplace=True)\n",
    "house_df = house_df.T\n",
    "house_df.index = pd.to_datetime(house_df.index)\n",
    "\n",
    "house_df = house_df.rolling(12,center=True).mean()\n",
    "\n",
    "house_df['Year'] = house_df.index.year\n",
    "house_df = house_df.groupby(house_df['Year']).mean()\n",
    "house_df = house_df.loc[ list( range(year_start,2020) ) ]\n",
    "\n",
    "# calculate PPC\n",
    "house_ppc_df = house_df.diff()/house_df.shift()*100\n",
    "house_ppc_df = house_ppc_df.drop( house_ppc_df.index[0] )\n",
    "#window_size = 2\n",
    "#house_ppc_df = house_ppc_df.rolling(window=window_size,center=False).mean().drop( house_ppc_df.index[:window_size-1] )\n"
   ]
  },
  {
   "cell_type": "markdown",
   "metadata": {},
   "source": [
    "- ## Some more utilities"
   ]
  },
  {
   "cell_type": "code",
   "execution_count": 14,
   "metadata": {},
   "outputs": [],
   "source": [
    "def house_ppc_relative(MSA_rank):\n",
    "    return house_ppc_df[house_ppc_df.columns[MSA_rank]]-house_ppc_df[house_ppc_df.columns[0]]"
   ]
  },
  {
   "cell_type": "code",
   "execution_count": 15,
   "metadata": {},
   "outputs": [],
   "source": [
    "houseRank_to_empRank = {1:None, 2:0, 3:1, 4:2, 5:4, 6:5, 7:3, 8:8, 9:7,\n",
    "                        10:6, 11:9, 12:None, 13:17, 14:12, 15:11, 16:10, 17:14, 18:15, 19:18 ,\n",
    "                        20:16, 21:13, 22:19, 23:None, 24:22, 25:31, 26:26, 27:20, 28:24, 29:None, 30:23 }"
   ]
  },
  {
   "cell_type": "code",
   "execution_count": 16,
   "metadata": {},
   "outputs": [],
   "source": [
    "def available_industries(MSA):\n",
    "    code_list = list(tot_empl_all[MSA].columns)\n",
    "    return pd.Series( [ NAICS_dict[ key ] for key in code_list ] , index=code_list )\n",
    "\n",
    "def print_info(house_rank):\n",
    "    print( \"MSA: \", house_ppc_df.columns[ house_rank ] )\n",
    "    if houseRank_to_empRank[house_rank] != None: \n",
    "        print( \"Available Industires:\\n\", available_industries( msa_emp_rank_df_dict[ houseRank_to_empRank[house_rank] ] ) )\n",
    "    else:\n",
    "        print(\"Employment data no available at the moment\")"
   ]
  },
  {
   "cell_type": "markdown",
   "metadata": {},
   "source": [
    "- ## Compare PPC"
   ]
  },
  {
   "cell_type": "markdown",
   "metadata": {},
   "source": [
    "- ## Compare Relative PPC"
   ]
  },
  {
   "cell_type": "code",
   "execution_count": 17,
   "metadata": {},
   "outputs": [
    {
     "name": "stdout",
     "output_type": "stream",
     "text": [
      "MSA:  Los Angeles-Long Beach-Anaheim, CA\n",
      "Available Industires:\n",
      " --                                                   Total\n",
      "11              Agriculture, Forestry, Fishing and Hunting\n",
      "21           Mining, Quarrying, and Oil and Gas Extraction\n",
      "22                                               Utilities\n",
      "23                                            Construction\n",
      "31-33                                        Manufacturing\n",
      "42                                         Wholesale Trade\n",
      "44-45                                         Retail Trade\n",
      "48-49                       Transportation and Warehousing\n",
      "51                                             Information\n",
      "52                                   Finance and Insurance\n",
      "53                      Real Estate and Rental and Leasing\n",
      "54        Professional, Scientific, and Technical Services\n",
      "55                 Management of Companies and Enterprises\n",
      "56       Administrative and Support and Waste Managemen...\n",
      "61                                    Educational Services\n",
      "62                       Health Care and Social Assistance\n",
      "71                     Arts, Entertainment, and Recreation\n",
      "72                         Accommodation and Food Services\n",
      "81           Other Services (except Public Administration)\n",
      "99                                            Unclassified\n",
      "dtype: object\n"
     ]
    }
   ],
   "source": [
    "MSA_rank = 2\n",
    "print_info(MSA_rank)"
   ]
  },
  {
   "cell_type": "code",
   "execution_count": null,
   "metadata": {},
   "outputs": [],
   "source": []
  },
  {
   "cell_type": "markdown",
   "metadata": {},
   "source": [
    "## Poverty and income data"
   ]
  },
  {
   "cell_type": "markdown",
   "metadata": {},
   "source": [
    "- ## Read and calculate PPC"
   ]
  },
  {
   "cell_type": "code",
   "execution_count": 18,
   "metadata": {},
   "outputs": [],
   "source": [
    "poverty_df = pd.read_csv( 'data/saipe/poverty_percent_county_years_.csv',header=[0,1] ,index_col=0)\n",
    "income_df = pd.read_csv('data/saipe/income_county_years_.csv',header=[0,1],index_col=0)\n",
    "\n",
    "window_size = 2\n",
    "\n",
    "poverty_df.dropna(axis=1,inplace=True)\n",
    "poverty_ppc_df = poverty_df.pct_change()*100\n",
    "poverty_ppc_df = poverty_ppc_df.drop( poverty_ppc_df.index[0] )\n",
    "#poverty_ppc_df = poverty_ppc_df.rolling(window=window_size,center=False).mean().drop( poverty_ppc_df.index[:window_size-1] )\n",
    "\n",
    "income_df.dropna(axis=1,inplace=True)\n",
    "income_ppc_df = income_df.pct_change()*100\n",
    "income_ppc_df = income_ppc_df.drop( income_ppc_df.index[0] )\n",
    "#income_ppc_df = income_ppc_df.rolling(window=window_size,center=False).mean().drop( income_ppc_df.index[:window_size-1] )"
   ]
  },
  {
   "cell_type": "code",
   "execution_count": 19,
   "metadata": {},
   "outputs": [],
   "source": [
    "def relative_ppc_poverty(MSA_rank):\n",
    "    return -poverty_ppc_df[ houseRank_to_county[MSA_rank] ] + poverty_ppc_df['US','United States']\n",
    "\n",
    "def relative_ppc_income(MSA_rank):\n",
    "    return income_ppc_df[ houseRank_to_county[MSA_rank] ] - income_ppc_df['US','United States']"
   ]
  },
  {
   "cell_type": "code",
   "execution_count": 20,
   "metadata": {},
   "outputs": [],
   "source": [
    "houseRank_to_county = {1:('US','United States'), 2:('CA','Los Angeles County'), 3:('IL','Cook County'), 4:('TX','Dallas County'), 5:('PA',''), \n",
    "                       6:('TX','Harris County'), 7:('DC','District of Columbia'), 8:('FL','Miami-Dade County'), 9:('GA','Fulton County'), 10:('MA','Suffolk County'), \n",
    "                       11:('CA','San Francisco County'), 12:('MI','Wayne County'), 13:('CA','Riverside County'), 14:('AZ','Maricopa County'), 15:('WA','King County'), \n",
    "                       16:('',''), 17:('CA','San Diego County'), 18:('',''), 19:('FL','Hillsborough County') ,  20:('MD','Baltimore city'), \n",
    "                       21:('CO','Denver County'), 22:('PA','Allegheny County'), 23:'NaN', 24:22, 25:('CA','Sacramento County'),\n",
    "                       26:('TX','Bexar County'), 27:('FL','Orange County')\n",
    "                        }"
   ]
  },
  {
   "cell_type": "markdown",
   "metadata": {},
   "source": [
    "- ## Plots"
   ]
  },
  {
   "cell_type": "code",
   "execution_count": 50,
   "metadata": {},
   "outputs": [
    {
     "name": "stdout",
     "output_type": "stream",
     "text": [
      "MSA:  Los Angeles-Long Beach-Anaheim, CA\n",
      "Available Industires:\n",
      " --                                                   Total\n",
      "11              Agriculture, Forestry, Fishing and Hunting\n",
      "21           Mining, Quarrying, and Oil and Gas Extraction\n",
      "22                                               Utilities\n",
      "23                                            Construction\n",
      "31-33                                        Manufacturing\n",
      "42                                         Wholesale Trade\n",
      "44-45                                         Retail Trade\n",
      "48-49                       Transportation and Warehousing\n",
      "51                                             Information\n",
      "52                                   Finance and Insurance\n",
      "53                      Real Estate and Rental and Leasing\n",
      "54        Professional, Scientific, and Technical Services\n",
      "55                 Management of Companies and Enterprises\n",
      "56       Administrative and Support and Waste Managemen...\n",
      "61                                    Educational Services\n",
      "62                       Health Care and Social Assistance\n",
      "71                     Arts, Entertainment, and Recreation\n",
      "72                         Accommodation and Food Services\n",
      "81           Other Services (except Public Administration)\n",
      "99                                            Unclassified\n",
      "dtype: object\n"
     ]
    }
   ],
   "source": [
    "available_MSAs = [2,4,6,8,9,11,13,14,15,17,19,20,21,22,25,26,27]\n",
    "NAICS_codes_sig =  [ '--','11', '23','31-33','42','44-45','48-49','51','52','53','54','62','71','72' ]\n",
    "MSA_rank = 2\n",
    "MSA = msa_emp_rank_df_dict[ houseRank_to_empRank[MSA_rank] ]\n",
    "print_info(MSA_rank)"
   ]
  },
  {
   "cell_type": "code",
   "execution_count": 23,
   "metadata": {},
   "outputs": [],
   "source": [
    "NAICS_code = '--'\n",
    "ppc_relative_state, ppc_relative_country =  ppc_relative(MSA,NAICS_code)\n",
    "house_ppc_relative(MSA_rank)\n"
   ]
  },
  {
   "cell_type": "code",
   "execution_count": 40,
   "metadata": {},
   "outputs": [
    {
     "data": {
      "text/plain": [
       "array([  1.15228322,   2.2616642 ,   3.65815492,   5.7433837 ,\n",
       "        10.26725076,  16.63117116,  15.50893525,   5.44100332,\n",
       "        -3.28812701, -16.83779024, -17.69525293,  -0.61410168,\n",
       "         2.42790778,   1.71912517,  12.21029542,  11.56142221,\n",
       "         1.11534061,   0.92927852,   0.66086375])"
      ]
     },
     "execution_count": 40,
     "metadata": {},
     "output_type": "execute_result"
    }
   ],
   "source": [
    "#ppc_relative_country\n",
    "house_ppc_relative(MSA_rank).loc[ list( range(year_start+1,year_end) ) ].values"
   ]
  },
  {
   "cell_type": "code",
   "execution_count": 23,
   "metadata": {},
   "outputs": [
    {
     "ename": "NameError",
     "evalue": "name 'available_MSAs' is not defined",
     "output_type": "error",
     "traceback": [
      "\u001b[0;31m---------------------------------------------------------------------------\u001b[0m",
      "\u001b[0;31mNameError\u001b[0m                                 Traceback (most recent call last)",
      "\u001b[0;32m<ipython-input-23-432123c00352>\u001b[0m in \u001b[0;36m<module>\u001b[0;34m\u001b[0m\n\u001b[1;32m      7\u001b[0m \u001b[0myear_range\u001b[0m \u001b[0;34m=\u001b[0m \u001b[0myear_end\u001b[0m\u001b[0;34m-\u001b[0m\u001b[0myear_start\u001b[0m\u001b[0;34m-\u001b[0m\u001b[0;36m1\u001b[0m\u001b[0;34m\u001b[0m\u001b[0;34m\u001b[0m\u001b[0m\n\u001b[1;32m      8\u001b[0m \u001b[0mlag\u001b[0m \u001b[0;34m=\u001b[0m \u001b[0;36m0\u001b[0m\u001b[0;34m\u001b[0m\u001b[0;34m\u001b[0m\u001b[0m\n\u001b[0;32m----> 9\u001b[0;31m \u001b[0;32mfor\u001b[0m \u001b[0mMSA_rank\u001b[0m \u001b[0;32min\u001b[0m \u001b[0mavailable_MSAs\u001b[0m\u001b[0;34m:\u001b[0m\u001b[0;34m\u001b[0m\u001b[0;34m\u001b[0m\u001b[0m\n\u001b[0m\u001b[1;32m     10\u001b[0m     \u001b[0mMSA\u001b[0m \u001b[0;34m=\u001b[0m \u001b[0mmsa_emp_rank_df_dict\u001b[0m\u001b[0;34m[\u001b[0m \u001b[0mhouseRank_to_empRank\u001b[0m\u001b[0;34m[\u001b[0m\u001b[0mMSA_rank\u001b[0m\u001b[0;34m]\u001b[0m \u001b[0;34m]\u001b[0m\u001b[0;34m\u001b[0m\u001b[0;34m\u001b[0m\u001b[0m\n\u001b[1;32m     11\u001b[0m \u001b[0;34m\u001b[0m\u001b[0m\n",
      "\u001b[0;31mNameError\u001b[0m: name 'available_MSAs' is not defined"
     ]
    },
    {
     "data": {
      "text/plain": [
       "<Figure size 864x432 with 0 Axes>"
      ]
     },
     "metadata": {},
     "output_type": "display_data"
    }
   ],
   "source": [
    "NAICS_code = '--'\n",
    "\n",
    "fig = plt.figure()\n",
    "fsize = 6\n",
    "plt.gcf().set_size_inches(fsize*2,fsize)\n",
    "\n",
    "year_range = year_end-year_start-1\n",
    "lag = 0\n",
    "for MSA_rank in available_MSAs:\n",
    "    MSA = msa_emp_rank_df_dict[ houseRank_to_empRank[MSA_rank] ]\n",
    "    \n",
    "    ppc_relative_state, ppc_relative_country =  ppc_relative(MSA,NAICS_code)\n",
    "    x=ppc_relative_country.values[:year_range-lag]\n",
    "    \n",
    "    plt.subplot(121)\n",
    "    y=house_ppc_relative(MSA_rank).loc[ list( range(year_start+1,year_end) ) ].values[lag:year_range]\n",
    "    plt.scatter( x,y )\n",
    "    \n",
    "    plt.subplot(122)\n",
    "    y=relative_ppc_poverty(MSA_rank).loc[ list( range(year_start+1,year_end) ) ].values[lag:year_range]\n",
    "    plt.scatter( x,y )"
   ]
  },
  {
   "cell_type": "code",
   "execution_count": 32,
   "metadata": {},
   "outputs": [
    {
     "name": "stdout",
     "output_type": "stream",
     "text": [
      "Professional, Scientific, and Technical Services\n",
      "Lag = 0  (0.14424118617320927, 0.014804450158424352) (0.12372391949398245, 0.03683864374104193)\n"
     ]
    },
    {
     "name": "stderr",
     "output_type": "stream",
     "text": [
      "<ipython-input-32-2b54fcb76460>:23: MatplotlibDeprecationWarning: Adding an axes using the same arguments as a previous axes currently reuses the earlier instance.  In a future version, a new instance will always be created and returned.  Meanwhile, this warning can be suppressed, and the future behavior ensured, by passing a unique label to each axes instance.\n",
      "  plt.subplot(121)\n",
      "<ipython-input-32-2b54fcb76460>:28: MatplotlibDeprecationWarning: Adding an axes using the same arguments as a previous axes currently reuses the earlier instance.  In a future version, a new instance will always be created and returned.  Meanwhile, this warning can be suppressed, and the future behavior ensured, by passing a unique label to each axes instance.\n",
      "  plt.subplot(122)\n"
     ]
    },
    {
     "name": "stdout",
     "output_type": "stream",
     "text": [
      "Lag = 1  (0.13711995235979796, 0.024239548305978995) (0.008257091511642169, 0.8925718044662494)\n",
      "Lag = 2  (0.1124532745930971, 0.07303652946133038) (0.08059023368830191, 0.19960160039815986)\n",
      "Lag = 3  (0.02978446299291954, 0.6461538879122724) (-0.025256515588397338, 0.697060455374101)\n",
      "Lag = 4  (-0.13920170105544827, 0.03692747152941683) (0.032871635323396875, 0.6238078786197612)\n",
      "Lag = 5  (-0.16191954829280553, 0.018877205834938886) (-0.15335526737438818, 0.0262680401507252)\n",
      "Lag = 6  (-0.09853104187504694, 0.17056143769630475) (-0.047401528509764826, 0.5105119992775395)\n",
      "Lag = 7  (-0.10249510919238307, 0.17095405944417122) (0.04175061853469658, 0.5778802439884522)\n",
      "Lag = 8  (-0.0537494577108009, 0.49292037416198814) (-0.18010967078522375, 0.020616954894588875)\n",
      "Lag = 9  (-0.017721446365892977, 0.8295772850140861) (-0.04735769105096309, 0.5649654480450154)\n",
      "Lag = 10  (0.05425242701626425, 0.532000525976768) (-0.13066162141226073, 0.13091153011974183)\n",
      "Lag = 11  (0.011591197082245331, 0.9000086856796956) (0.08372795146599063, 0.3632491456179836)\n",
      "Lag = 12  (-0.0020985434534231194, 0.9830491941469842) (-0.21951217206340065, 0.024453934956646283)\n",
      "Lag = 13  (0.05683486364990093, 0.5946731501375951) (0.18670289411791943, 0.07807122425618711)\n",
      "Lag = 14  (0.03958002175418302, 0.7360053326833913) (-0.09326768287503798, 0.42609458470207867)\n",
      "Lag = 15  (-0.033489272800769625, 0.7994792311647838) (0.0038445925807236614, 0.9767419871858236)\n",
      "Lag = 16  (0.10496970464962324, 0.4925601296818251) (0.2946201778905774, 0.04945991748896638)\n",
      "Lag = 17  (0.2743415579954408, 0.14234895149261637) (-0.26577855361474134, 0.15573799385851883)\n",
      "Lag = 18  (0.12964635910194067, 0.6451506836584735) (0.30452190890060155, 0.26978252672994346)\n"
     ]
    }
   ],
   "source": [
    "NAICS_code = '54'\n",
    "print( NAICS_dict[NAICS_code] )\n",
    "\n",
    "year_range = year_end-year_start-1\n",
    "for lag in range( int(year_range) ):\n",
    "    fig = plt.figure()\n",
    "    fsize = 6\n",
    "    plt.gcf().set_size_inches(fsize*2,fsize)\n",
    "\n",
    "    emp_relppc_s = []\n",
    "    house_relppc_s = []\n",
    "    poverty_relppc_s = []\n",
    "    \n",
    "    for MSA_rank in available_MSAs:\n",
    "        MSA = msa_emp_rank_df_dict[ houseRank_to_empRank[MSA_rank] ]\n",
    "        \n",
    "        \n",
    "        if NAICS_code in list(tot_empl_all[MSA].columns):\n",
    "            ppc_relative_state, ppc_relative_country =  ppc_relative(MSA,NAICS_code)\n",
    "            x=ppc_relative_country.values[:year_range-lag]\n",
    "            emp_relppc_s += list(x)\n",
    "\n",
    "            plt.subplot(121)\n",
    "            y1=house_ppc_relative(MSA_rank).loc[ list( range(year_start+1,year_end) ) ].values[lag:year_range]\n",
    "            plt.scatter( x,y1 )\n",
    "            house_relppc_s += list(y1)\n",
    "\n",
    "            plt.subplot(122)\n",
    "            y2=relative_ppc_poverty(MSA_rank).loc[ list( range(year_start+1,year_end) ) ].values[lag:year_range]\n",
    "            plt.scatter( x,y2 )\n",
    "            poverty_relppc_s += list(y2)\n",
    "            \n",
    "    print('Lag = {} '.format(lag), pearsonr(emp_relppc_s,house_relppc_s),pearsonr(emp_relppc_s,poverty_relppc_s) )\n",
    "    \n",
    "    plt.close()"
   ]
  },
  {
   "cell_type": "code",
   "execution_count": 47,
   "metadata": {},
   "outputs": [
    {
     "name": "stdout",
     "output_type": "stream",
     "text": [
      "Professional, Scientific, and Technical Services\n"
     ]
    }
   ],
   "source": [
    "NAICS_code = '54'\n",
    "print( NAICS_dict[NAICS_code] )\n",
    "\n",
    "max_lag = 12# int(year_range)\n",
    "\n",
    "#corr_auto = np.zeros(max_lag)\n",
    "#corr_house = np.zeros(max_lag)\n",
    "#corr_poverty = np.zeros(max_lag)\n",
    "#lags = list(range( max_lag ) ) # []\n",
    "lags = []\n",
    "corr_ = []\n",
    "corr_auto = []\n",
    "corr_house = []\n",
    "corr_poverty = []\n",
    "\n",
    "\n",
    "year_range = year_end-year_start-1\n",
    "for lag in range( max_lag ):\n",
    "    emp_relppc_s = []\n",
    "    emp_relppc_s_shifted = []\n",
    "    house_relppc_s = []\n",
    "    poverty_relppc_s = []\n",
    "    emp_us_ppc_s = []\n",
    "    \n",
    "    for MSA_rank in available_MSAs:\n",
    "        MSA = msa_emp_rank_df_dict[ houseRank_to_empRank[MSA_rank] ]\n",
    "        \n",
    "        \n",
    "        if NAICS_code in list(tot_empl_all[MSA].columns):\n",
    "            ppc_relative_state, ppc_relative_country =  ppc_relative(MSA,NAICS_code)\n",
    "            x=ppc_relative_country.values[:year_range-lag]\n",
    "            #x=ppc_relative_state.values[:year_range-lag]\n",
    "            emp_relppc_s += list(x)\n",
    "            \n",
    "            x_shifted = ppc_relative_country.values[lag:year_range]\n",
    "            #x_shifted = ppc_relative_state.values[lag:year_range]\n",
    "            emp_relppc_s_shifted += list(x_shifted)\n",
    "\n",
    "            y1=house_ppc_relative(MSA_rank).loc[ list( range(year_start+1,year_end) ) ].values[lag:year_range]\n",
    "            house_relppc_s += list(y1)\n",
    "\n",
    "            y2=relative_ppc_poverty(MSA_rank).loc[ list( range(year_start+1,year_end) ) ].values[lag:year_range]\n",
    "            poverty_relppc_s += list(y2)\n",
    "            \n",
    "            y3 = tot_empl_state_ppc[ ( 'United States' ,NAICS_code) ].values[lag:year_range]\n",
    "            emp_us_ppc_s += list(y3)\n",
    "            \n",
    "    #pcorr = pearsonr(emp_relppc_s,emp_relppc_s_shifted)\n",
    "    pcorr = pearsonr(emp_relppc_s,house_relppc_s)\n",
    "    #pcorr = pearsonr(emp_relppc_s,emp_us_ppc_s)\n",
    "    if len( emp_relppc_s )>40:\n",
    "        lags += [lag]\n",
    "        corr_ += [pcorr[0] ]\n",
    "    #corr_house += [pearsonr(emp_relppc_s,house_relppc_s)[0] ]\n",
    "    #corr_poverty[lag] = pearsonr(emp_relppc_s,poverty_relppc_s)[0]\n",
    "    #print('Lag = {} '.format(lag), corr_auto[lag], corr_house[lag], corr_poverty[lag])"
   ]
  },
  {
   "cell_type": "code",
   "execution_count": 48,
   "metadata": {},
   "outputs": [
    {
     "data": {
      "text/plain": [
       "Text(0, 0.5, 'Correlation')"
      ]
     },
     "execution_count": 48,
     "metadata": {},
     "output_type": "execute_result"
    },
    {
     "data": {
      "image/png": "[encoded data removed]",
      "text/plain": [
       "<Figure size 648x216 with 1 Axes>"
      ]
     },
     "metadata": {
      "needs_background": "light"
     },
     "output_type": "display_data"
    }
   ],
   "source": [
    "fig = plt.figure()\n",
    "fsize = 3\n",
    "plt.gcf().set_size_inches(fsize*3,fsize)\n",
    "\n",
    "plt.stem( lags, corr_ )\n",
    "#plt.stem( lags, corr_house )\n",
    "plt.xlabel( 'Time lag (years)' ,fontsize='x-large')\n",
    "plt.ylabel( 'Correlation' ,fontsize='x-large')\n"
   ]
  },
  {
   "cell_type": "code",
   "execution_count": 79,
   "metadata": {},
   "outputs": [
    {
     "data": {
      "image/png": "[encoded data removed]",
      "text/plain": [
       "<Figure size 1008x504 with 4 Axes>"
      ]
     },
     "metadata": {
      "needs_background": "light"
     },
     "output_type": "display_data"
    }
   ],
   "source": [
    "year_range = year_end-year_start-1\n",
    "max_lag = 12\n",
    "#corr_ = {}\n",
    "\n",
    "fig = plt.figure()\n",
    "fsize = 7\n",
    "plt.gcf().set_size_inches(fsize*2,fsize)\n",
    "plt.suptitle( 'Correlation of local employment with housing prices' ,fontsize='xx-large')\n",
    "\n",
    "#NAICS_codes_sig =  [ '--', '23','44-45','48-49','52','54','62','72' ]\n",
    "#NAICS_codes_sig =  [ '--', '23','72','44-45','48-49','52','54' ]\n",
    "NAICS_codes_sig =  [ '--', '23','72','48-49' ]\n",
    "\n",
    "for i,NAICS_code in enumerate(NAICS_codes_sig):\n",
    "    lags = []\n",
    "    corr_ = []\n",
    "    corr_auto = []\n",
    "    corr_house = []\n",
    "    corr_poverty = []\n",
    "\n",
    "\n",
    "\n",
    "    for lag in range( max_lag ):\n",
    "        emp_relppc_s = []\n",
    "        emp_relppc_s_shifted = []\n",
    "        house_relppc_s = []\n",
    "        poverty_relppc_s = []\n",
    "        emp_us_ppc_s = []\n",
    "\n",
    "        for MSA_rank in available_MSAs:\n",
    "            MSA = msa_emp_rank_df_dict[ houseRank_to_empRank[MSA_rank] ]\n",
    "\n",
    "\n",
    "            if NAICS_code in list(tot_empl_all[MSA].columns):\n",
    "                ppc_relative_state, ppc_relative_country =  ppc_relative(MSA,NAICS_code)\n",
    "                x=ppc_relative_country.values[:year_range-lag]\n",
    "                #x=ppc_relative_state.values[:year_range-lag]\n",
    "                emp_relppc_s += list(x)\n",
    "\n",
    "                x_shifted = ppc_relative_country.values[lag:year_range]\n",
    "                #x_shifted = ppc_relative_state.values[lag:year_range]\n",
    "                emp_relppc_s_shifted += list(x_shifted)\n",
    "\n",
    "                y1=house_ppc_relative(MSA_rank).loc[ list( range(year_start+1,year_end) ) ].values[lag:year_range]\n",
    "                house_relppc_s += list(y1)\n",
    "\n",
    "                y2=relative_ppc_poverty(MSA_rank).loc[ list( range(year_start+1,year_end) ) ].values[lag:year_range]\n",
    "                poverty_relppc_s += list(y2)\n",
    "\n",
    "                #y3 = tot_empl_state_ppc[ ( 'United States' ,NAICS_code) ].values[lag:year_range]\n",
    "                #emp_us_ppc_s += list(y3)\n",
    "\n",
    "        #pcorr = pearsonr(emp_relppc_s,emp_relppc_s_shifted)\n",
    "        pcorr = pearsonr(emp_relppc_s,house_relppc_s)\n",
    "        #pcorr = pearsonr(emp_relppc_s,emp_us_ppc_s)\n",
    "        if len( emp_relppc_s )>40:\n",
    "            lags += [lag]\n",
    "            corr_ += [pcorr[0] ]\n",
    "            \n",
    "    if len(corr_)>10:\n",
    "        plt.subplot(  len(NAICS_codes_sig ) ,1,i+1  )\n",
    "        plt.stem( lags, corr_ )\n",
    "        #plt.stem( lags, corr_house )\n",
    "        #plt.xlabel( 'Time lag (years)' ,fontsize='x-large')\n",
    "        #plt.ylabel( 'Correlation' ,fontsize='x-large')\n",
    "        plt.title( NAICS_dict[NAICS_code] ,fontsize='x-large')\n",
    "        plt.ylim( [-0.6,0.6] )\n",
    "        plt.subplots_adjust(hspace = 0.7)\n",
    "\n",
    "plt.xlabel( 'Time lag (years)' ,fontsize='x-large')\n",
    "\n",
    "\n",
    "plt.savefig('data/plots/corr_emp_house_2.png')\n"
   ]
  },
  {
   "cell_type": "code",
   "execution_count": null,
   "metadata": {},
   "outputs": [],
   "source": []
  },
  {
   "cell_type": "code",
   "execution_count": null,
   "metadata": {},
   "outputs": [],
   "source": []
  },
  {
   "cell_type": "code",
   "execution_count": null,
   "metadata": {},
   "outputs": [],
   "source": []
  },
  {
   "cell_type": "code",
   "execution_count": null,
   "metadata": {},
   "outputs": [],
   "source": []
  },
  {
   "cell_type": "code",
   "execution_count": null,
   "metadata": {},
   "outputs": [],
   "source": []
  },
  {
   "cell_type": "code",
   "execution_count": null,
   "metadata": {},
   "outputs": [],
   "source": []
  },
  {
   "cell_type": "code",
   "execution_count": null,
   "metadata": {},
   "outputs": [],
   "source": []
  }
 ],
 "metadata": {
  "kernelspec": {
   "display_name": "Python 3",
   "language": "python",
   "name": "python3"
  },
  "language_info": {
   "codemirror_mode": {
    "name": "ipython",
    "version": 3
   },
   "file_extension": ".py",
   "mimetype": "text/x-python",
   "name": "python",
   "nbconvert_exporter": "python",
   "pygments_lexer": "ipython3",
   "version": "3.9.2"
  }
 },
 "nbformat": 4,
 "nbformat_minor": 4
}
