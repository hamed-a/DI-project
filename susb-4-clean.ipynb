{
 "cells": [
  {
   "cell_type": "code",
   "execution_count": 1,
   "metadata": {},
   "outputs": [],
   "source": [
    "import numpy as np\n",
    "import pandas as pd\n",
    "import matplotlib.pyplot as plt"
   ]
  },
  {
   "cell_type": "code",
   "execution_count": 2,
   "metadata": {},
   "outputs": [],
   "source": [
    "df={}\n",
    "\n",
    "# for years 2007-2017\n",
    "usecols_v1 = [0,1,2,3,4,7]\n",
    "columns_v1 = ['FIPS Code', 'MSA Description', 'NAICS Code', 'NAICS Description',\n",
    "       'Enterprise Employment Size',\n",
    "        'Employment']\n",
    "\n",
    "# for years 1998-2007\n",
    "usecols_v2 = list(range(6))\n",
    "columns_v2 = ['FIPS Code', 'MSA Description', 'NAICS Code', \n",
    "              'NAICS Description', 'Size Measure', 'Total']"
   ]
  },
  {
   "cell_type": "code",
   "execution_count": 3,
   "metadata": {},
   "outputs": [],
   "source": [
    "# for years 2007-2017\n",
    "def clean_v1(df_y):\n",
    "    df_y = df_y.drop([0,1])\n",
    "    df_y.columns = columns_v1\n",
    "    df_y = df_y.where( df_y['Enterprise Employment Size']== df_y['Enterprise Employment Size'].iloc[0] ).dropna()\n",
    "    df_y.rename(columns={'Employment':'Total Employment'},inplace=True)\n",
    "    del df_y['Enterprise Employment Size']\n",
    "    return df_y\n",
    "\n",
    "# for years 1998-2007\n",
    "def clean_v2(df_y):\n",
    "    #df_y = df_y.drop([0,1])\n",
    "    df_y.columns = columns_v2\n",
    "    #df_y['FIPS Code'] = df_y['FIPS Code'].astype('int64')\n",
    "    df_y = df_y.where( df_y['Size Measure']== 'Employment' ).dropna()\n",
    "    del df_y['Size Measure']\n",
    "    df_y.rename(columns={'Total':'Total Employment'},inplace=True)\n",
    "    return df_y\n",
    "\n",
    "# for 1997\n",
    "def clean_v3(df_y):\n",
    "    #df_y = df_y.drop([0,1])\n",
    "    df_y.columns = columns_v2\n",
    "    #df_y['FIPS Code'] = pd.to_numeric(df_y['FIPS Code'],downcast='integer',errors='coerce') #astype('int64')\n",
    "    df_y['NAICS Code'] = df_y['NAICS Code'].map(lambda x: x[:2])\n",
    "    df_y = df_y.where( df_y['Size Measure']== 'Employment' ).dropna()\n",
    "    del df_y['Size Measure']\n",
    "    df_y.rename(columns={'Total':'Total Employment'},inplace=True)\n",
    "    return df_y"
   ]
  },
  {
   "cell_type": "code",
   "execution_count": null,
   "metadata": {},
   "outputs": [],
   "source": [
    "df_1 = pd.read_excel('data/msa/msa_naicssector_2017.xlsx',skiprows=5,usecols=usecols_v1)\n",
    "df[2017] = clean_v1(df_1)\n",
    "\n",
    "df_1 = pd.read_excel('data/msa/msa_naicssector_2016.xlsx',skiprows=5,usecols=usecols_v1)\n",
    "df[2016] = clean_v1(df_1)\n",
    "\n",
    "df_1 = pd.read_excel('data/msa/msa_naicssector_2015.xlsx',skiprows=4,usecols=usecols_v1)\n",
    "df[2015] = clean_v1(df_1)\n",
    "\n",
    "df_1 = pd.read_excel('data/msa/msa_naicssector_2014.xlsx',skiprows=4,usecols=usecols_v1)\n",
    "df[2014] = clean_v1(df_1)\n",
    "\n",
    "df_1 = pd.read_excel('data/msa/msa_naicssector_2013.xlsx',skiprows=4,usecols=usecols_v1)\n",
    "df[2013] = clean_v1(df_1)\n",
    "\n",
    "df_1 = pd.read_excel('data/msa/msa_naicssector_2012.xlsx',skiprows=5,usecols=usecols_v1)\n",
    "df[2012] = clean_v1(df_1)\n",
    "\n",
    "df_1 = pd.read_excel('data/msa/msa_abbevillela-glasgowky_naicssector_2011.xls',skiprows=5,usecols=usecols_v1)\n",
    "df_2 = pd.read_excel('data/msa/msa_glensfallsny-owensboroky_naicssector_2011.xls',skiprows=5,usecols=usecols_v1)\n",
    "df_3 = pd.read_excel('data/msa/msa_owossomi-zanesvilleoh_naicssector_2011.xls',skiprows=5,usecols=usecols_v1)\n",
    "df[2011] = pd.concat([clean_v1(df_1),clean_v1(df_2),clean_v1(df_3)])\n",
    "\n",
    "df_1 = pd.read_excel('data/msa/msa_naicssector_2010.xlsx',skiprows=5,usecols=usecols_v1)\n",
    "df[2010] = clean_v1(df_1)\n",
    "\n",
    "df_1 = pd.read_excel('data/msa/msa_naicssector_2009.xlsx',skiprows=5,usecols=usecols_v1)\n",
    "df[2009] = clean_v1(df_1)\n",
    "\n",
    "df_1 = pd.read_excel('data/msa/msa_abbevillela-glasgowky_naicssector_2008.xls',skiprows=5,usecols=usecols_v1)\n",
    "df_2 = pd.read_excel('data/msa/msa_glensfallsny-owensboroky_naicssector_2008.xls',skiprows=5,usecols=usecols_v1)\n",
    "df_3 = pd.read_excel('data/msa/msa_owossomi-zanesvilleoh_naicssector_2008.xls',skiprows=5,usecols=usecols_v1)\n",
    "df[2008] = pd.concat([clean_v1(df_1),clean_v1(df_2),clean_v1(df_3)])\n",
    "\n",
    "df_1 = pd.read_excel('data/msa/msa_abbevillela-glasgowky_naicssector_2007.xls',skiprows=5,usecols=usecols_v1)\n",
    "df_2 = pd.read_excel('data/msa/msa_glensfallsny-owensboroky_naicssector_2007.xls',skiprows=6,usecols=usecols_v1)\n",
    "df_3 = pd.read_excel('data/msa/msa_owossomi-zanesvilleoh_naicssector_2007.xls',skiprows=5,usecols=usecols_v1)\n",
    "df[2007] = pd.concat([clean_v1(df_1),clean_v1(df_2),clean_v1(df_3)])"
   ]
  },
  {
   "cell_type": "code",
   "execution_count": null,
   "metadata": {},
   "outputs": [],
   "source": [
    "df_1 = pd.read_excel('data/msa/msa_abbevillela-lawrenceburgtn_naicssector_2006.xls',skiprows=8,usecols=usecols_v2)\n",
    "df_2 = pd.read_excel('data/msa/msa_lawtonok-zanesvilleoh_naicssector_2006.xls',skiprows=8,usecols=usecols_v2)\n",
    "df[2006] = pd.concat([clean_v2(df_1),clean_v2(df_2)])\n",
    "\n",
    "df_1 = pd.read_excel('data/msa/msa_abbevillela-lawrenceburgtn_naicssector_2005.xls',skiprows=8,usecols=usecols_v2)\n",
    "df_2 = pd.read_excel('data/msa/msa_lawtonok-zanesvilleoh_naicssector_2005.xls',skiprows=8,usecols=usecols_v2)\n",
    "df[2005] = pd.concat([clean_v2(df_1),clean_v2(df_2)])\n",
    "\n",
    "df_1 = pd.read_excel('data/msa/msa_abbevillela-lawrenceburgtn_naicssector_2004.xls',skiprows=8,usecols=usecols_v2)\n",
    "df_2 = pd.read_excel('data/msa/msa_lawtonok-zanesvilleoh_naicssector_2004.xls',skiprows=8,usecols=usecols_v2)\n",
    "df[2004] = pd.concat([clean_v2(df_1),clean_v2(df_2)])\n",
    "\n",
    "df_1 = pd.read_excel('data/msa/msa_abbevillela-lawrenceburgtn_naicssector_2003.xls',skiprows=8,usecols=usecols_v2)\n",
    "df_2 = pd.read_excel('data/msa/msa_lawtonok-zanesvilleoh_naicssector_2003.xls',skiprows=8,usecols=usecols_v2)\n",
    "df[2003] = pd.concat([clean_v2(df_1),clean_v2(df_2)])\n",
    "\n",
    "df_1 = pd.read_excel('data/msa/msa_abilenetx-lansingmi_naicssector_2002.xls',skiprows=7,usecols=usecols_v2)\n",
    "df_2 = pd.read_excel('data/msa/msa_laredotx-yumaaz_naicssector_2002.xls',skiprows=7,usecols=usecols_v2)\n",
    "df[2002] = pd.concat([clean_v2(df_1),clean_v2(df_2)])\n",
    "\n",
    "df_1= pd.read_excel('data/msa/msa_naicssector_2001.xls',skiprows=7,usecols=usecols_v2)\n",
    "df[2001] = clean_v2(df_1)\n",
    "\n",
    "df_1= pd.read_excel('data/msa/msa_naicssector_2000.xls',skiprows=7,usecols=usecols_v2)\n",
    "df[2000] = clean_v2(df_1)\n",
    "\n",
    "df_1= pd.read_excel('data/msa/msa_naicssector_1999.xls',skiprows=7,usecols=usecols_v2)\n",
    "df[1999] = clean_v2(df_1)\n",
    "\n",
    "df_1= pd.read_excel('data/msa/msa_naicssector_1998.xls',skiprows=7,usecols=usecols_v2)\n",
    "df[1998] = clean_v2(df_1)\n",
    "\n",
    "df_1= pd.read_excel('data/msa/msa_sicmajorindustry_1997.xls',skiprows=7,usecols=usecols_v2)\n",
    "df[1997] = clean_v3(df_1)"
   ]
  },
  {
   "cell_type": "code",
   "execution_count": null,
   "metadata": {},
   "outputs": [],
   "source": [
    "# Save the processed ones\n",
    "for year in range(1997,2018):\n",
    "    df[year].to_csv('data/cleaned/msa_naicssector_cleaned_totEmploy_'+str(year)+'.csv',index=False)"
   ]
  },
  {
   "cell_type": "code",
   "execution_count": null,
   "metadata": {},
   "outputs": [],
   "source": []
  },
  {
   "cell_type": "code",
   "execution_count": null,
   "metadata": {},
   "outputs": [],
   "source": []
  },
  {
   "cell_type": "code",
   "execution_count": null,
   "metadata": {},
   "outputs": [],
   "source": [
    "year=2007\n",
    "df[year].to_csv('data/cleaned/msa_naicssector_cleaned_totEmploy_'+str(year)+'.csv',index=False)"
   ]
  },
  {
   "cell_type": "code",
   "execution_count": null,
   "metadata": {},
   "outputs": [],
   "source": [
    "df_1 = pd.read_excel('data/msa/msa_abbevillela-glasgowky_naicssector_2007.xls',skiprows=5,usecols=usecols_v1)\n",
    "df_2 = pd.read_excel('data/msa/msa_glensfallsny-owensboroky_naicssector_2007.xls',skiprows=6,usecols=usecols_v1)\n",
    "df_3 = pd.read_excel('data/msa/msa_owossomi-zanesvilleoh_naicssector_2007.xls',skiprows=5,usecols=usecols_v1)\n",
    "df[2007] = pd.concat([clean_v1(df_1),clean_v1(df_2),clean_v1(df_3)])"
   ]
  },
  {
   "cell_type": "code",
   "execution_count": null,
   "metadata": {},
   "outputs": [],
   "source": [
    "df_2"
   ]
  },
  {
   "cell_type": "markdown",
   "metadata": {},
   "source": [
    "# Individual MSA"
   ]
  },
  {
   "cell_type": "code",
   "execution_count": 21,
   "metadata": {},
   "outputs": [],
   "source": [
    "year = 2008"
   ]
  },
  {
   "cell_type": "code",
   "execution_count": 22,
   "metadata": {},
   "outputs": [],
   "source": [
    "df_1 = pd.read_excel('data/msa/msa_abbevillela-glasgowky_naicssector_2008.xls',skiprows=4,usecols=usecols_v1)\n",
    "df_2 = pd.read_excel('data/msa/msa_glensfallsny-owensboroky_naicssector_2008.xls',skiprows=4,usecols=usecols_v1)\n",
    "df_3 = pd.read_excel('data/msa/msa_owossomi-zanesvilleoh_naicssector_2008.xls',skiprows=4,usecols=usecols_v1)\n",
    "df[2008] = pd.concat([clean_v1(df_1),clean_v1(df_2),clean_v1(df_3)])"
   ]
  },
  {
   "cell_type": "code",
   "execution_count": 23,
   "metadata": {},
   "outputs": [],
   "source": [
    "# Save the processed ones\n",
    "for year in range(year,year+1):\n",
    "    df[year].to_csv('data/cleaned/msa_naicssector_cleaned_totEmploy_'+str(year)+'.csv',index=False)"
   ]
  },
  {
   "cell_type": "code",
   "execution_count": 19,
   "metadata": {},
   "outputs": [
    {
     "data": {
      "text/html": [
       "<div>\n",
       "<style scoped>\n",
       "    .dataframe tbody tr th:only-of-type {\n",
       "        vertical-align: middle;\n",
       "    }\n",
       "\n",
       "    .dataframe tbody tr th {\n",
       "        vertical-align: top;\n",
       "    }\n",
       "\n",
       "    .dataframe thead th {\n",
       "        text-align: right;\n",
       "    }\n",
       "</style>\n",
       "<table border=\"1\" class=\"dataframe\">\n",
       "  <thead>\n",
       "    <tr style=\"text-align: right;\">\n",
       "      <th></th>\n",
       "      <th>MSA Description</th>\n",
       "      <th>NAICS Code</th>\n",
       "      <th>Total Employment - 2008</th>\n",
       "    </tr>\n",
       "  </thead>\n",
       "  <tbody>\n",
       "    <tr>\n",
       "      <th>2</th>\n",
       "      <td>Abbeville, LA Micropolitan Statistical Area</td>\n",
       "      <td>--</td>\n",
       "      <td>10120</td>\n",
       "    </tr>\n",
       "    <tr>\n",
       "      <th>11</th>\n",
       "      <td>Abbeville, LA Micropolitan Statistical Area</td>\n",
       "      <td>11</td>\n",
       "      <td>0</td>\n",
       "    </tr>\n",
       "    <tr>\n",
       "      <th>17</th>\n",
       "      <td>Abbeville, LA Micropolitan Statistical Area</td>\n",
       "      <td>21</td>\n",
       "      <td>494</td>\n",
       "    </tr>\n",
       "    <tr>\n",
       "      <th>26</th>\n",
       "      <td>Abbeville, LA Micropolitan Statistical Area</td>\n",
       "      <td>22</td>\n",
       "      <td>0</td>\n",
       "    </tr>\n",
       "    <tr>\n",
       "      <th>32</th>\n",
       "      <td>Abbeville, LA Micropolitan Statistical Area</td>\n",
       "      <td>23</td>\n",
       "      <td>0</td>\n",
       "    </tr>\n",
       "    <tr>\n",
       "      <th>...</th>\n",
       "      <td>...</td>\n",
       "      <td>...</td>\n",
       "      <td>...</td>\n",
       "    </tr>\n",
       "    <tr>\n",
       "      <th>48006</th>\n",
       "      <td>Zanesville, OH Micropolitan Statistical Area</td>\n",
       "      <td>62</td>\n",
       "      <td>6482</td>\n",
       "    </tr>\n",
       "    <tr>\n",
       "      <th>48015</th>\n",
       "      <td>Zanesville, OH Micropolitan Statistical Area</td>\n",
       "      <td>71</td>\n",
       "      <td>267</td>\n",
       "    </tr>\n",
       "    <tr>\n",
       "      <th>48024</th>\n",
       "      <td>Zanesville, OH Micropolitan Statistical Area</td>\n",
       "      <td>72</td>\n",
       "      <td>3129</td>\n",
       "    </tr>\n",
       "    <tr>\n",
       "      <th>48033</th>\n",
       "      <td>Zanesville, OH Micropolitan Statistical Area</td>\n",
       "      <td>81</td>\n",
       "      <td>1601</td>\n",
       "    </tr>\n",
       "    <tr>\n",
       "      <th>48042</th>\n",
       "      <td>Zanesville, OH Micropolitan Statistical Area</td>\n",
       "      <td>99</td>\n",
       "      <td>0</td>\n",
       "    </tr>\n",
       "  </tbody>\n",
       "</table>\n",
       "<p>19353 rows × 3 columns</p>\n",
       "</div>"
      ],
      "text/plain": [
       "                                    MSA Description NAICS Code  \\\n",
       "2       Abbeville, LA Micropolitan Statistical Area         --   \n",
       "11      Abbeville, LA Micropolitan Statistical Area         11   \n",
       "17      Abbeville, LA Micropolitan Statistical Area         21   \n",
       "26      Abbeville, LA Micropolitan Statistical Area         22   \n",
       "32      Abbeville, LA Micropolitan Statistical Area         23   \n",
       "...                                             ...        ...   \n",
       "48006  Zanesville, OH Micropolitan Statistical Area         62   \n",
       "48015  Zanesville, OH Micropolitan Statistical Area         71   \n",
       "48024  Zanesville, OH Micropolitan Statistical Area         72   \n",
       "48033  Zanesville, OH Micropolitan Statistical Area         81   \n",
       "48042  Zanesville, OH Micropolitan Statistical Area         99   \n",
       "\n",
       "       Total Employment - 2008  \n",
       "2                        10120  \n",
       "11                           0  \n",
       "17                         494  \n",
       "26                           0  \n",
       "32                           0  \n",
       "...                        ...  \n",
       "48006                     6482  \n",
       "48015                      267  \n",
       "48024                     3129  \n",
       "48033                     1601  \n",
       "48042                        0  \n",
       "\n",
       "[19353 rows x 3 columns]"
      ]
     },
     "execution_count": 19,
     "metadata": {},
     "output_type": "execute_result"
    }
   ],
   "source": [
    "df[2008]\n",
    "#df_1"
   ]
  },
  {
   "cell_type": "code",
   "execution_count": null,
   "metadata": {},
   "outputs": [],
   "source": []
  },
  {
   "cell_type": "code",
   "execution_count": null,
   "metadata": {},
   "outputs": [],
   "source": []
  },
  {
   "cell_type": "code",
   "execution_count": null,
   "metadata": {},
   "outputs": [],
   "source": []
  },
  {
   "cell_type": "code",
   "execution_count": null,
   "metadata": {},
   "outputs": [],
   "source": []
  }
 ],
 "metadata": {
  "kernelspec": {
   "display_name": "Python 3",
   "language": "python",
   "name": "python3"
  },
  "language_info": {
   "codemirror_mode": {
    "name": "ipython",
    "version": 3
   },
   "file_extension": ".py",
   "mimetype": "text/x-python",
   "name": "python",
   "nbconvert_exporter": "python",
   "pygments_lexer": "ipython3",
   "version": "3.9.2"
  }
 },
 "nbformat": 4,
 "nbformat_minor": 4
}
