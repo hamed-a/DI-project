{
 "cells": [
  {
   "cell_type": "code",
   "execution_count": 1,
   "metadata": {},
   "outputs": [],
   "source": [
    "import numpy as np\n",
    "import pandas as pd\n",
    "import matplotlib.pyplot as plt"
   ]
  },
  {
   "cell_type": "code",
   "execution_count": 18,
   "metadata": {},
   "outputs": [],
   "source": [
    "df={}\n",
    "columns = ['FIPS    CODE', 'MSA DESCRIPTION', 'NAICS   CODE ', 'NAICS DESCRIPTION',\n",
    "       'ENTERPRISE EMPLOYMENT SIZE', 'NUMBER OF FIRMS',\n",
    "       'NUMBER OF ESTABLISHMENTS', 'EMPLOYMENT', 'ANNUAL PAYROLL ($1,000)']\n",
    "\n",
    "new_columns = ['FIPS Code', 'MSA Description', 'NAICS Code', 'NAICS Description',\n",
    "       'Enterprise Employment Size', 'Number of Firms',\n",
    "       'Number of Establishments', 'Employment', 'Annual Payroll ($1,000)']"
   ]
  },
  {
   "cell_type": "code",
   "execution_count": 5,
   "metadata": {},
   "outputs": [],
   "source": [
    "# 2017\n",
    "df_ = pd.read_excel('data/susb/msa_naicssector_2017.xlsx',skiprows=5)\n",
    "df_ = df_.drop([0,1])\n",
    "df_ = df_[columns]\n",
    "df[2017] = df_.where( df_['ENTERPRISE EMPLOYMENT SIZE']=='01:  Total' ).dropna()"
   ]
  },
  {
   "cell_type": "code",
   "execution_count": 7,
   "metadata": {},
   "outputs": [],
   "source": [
    "# 2016\n",
    "df_ = pd.read_excel('data/susb/msa_naicssector_2016.xlsx',skiprows=5)\n",
    "df_ = df_.drop([0,1])\n",
    "df_ = df_[columns]\n",
    "df[2016] = df_.where( df_['ENTERPRISE EMPLOYMENT SIZE']=='01:  Total' ).dropna()"
   ]
  },
  {
   "cell_type": "code",
   "execution_count": 8,
   "metadata": {},
   "outputs": [],
   "source": [
    "# 2015\n",
    "df_ = pd.read_excel('data/susb/msa_naicssector_2015.xlsx',skiprows=4)\n",
    "df_ = df_.drop([0,1])\n",
    "df_ = df_[columns]\n",
    "df[2015] = df_.where( df_['ENTERPRISE EMPLOYMENT SIZE']=='01:  Total' ).dropna()"
   ]
  },
  {
   "cell_type": "code",
   "execution_count": 10,
   "metadata": {},
   "outputs": [],
   "source": [
    "# 2014\n",
    "df_ = pd.read_excel('data/susb/msa_naicssector_2014.xlsx',skiprows=4)\n",
    "df_ = df_.drop([0,1])\n",
    "df_ = df_[columns]\n",
    "df[2014] = df_.where( df_['ENTERPRISE EMPLOYMENT SIZE']=='01:  Total' ).dropna()"
   ]
  },
  {
   "cell_type": "code",
   "execution_count": 12,
   "metadata": {},
   "outputs": [],
   "source": [
    "# 2013\n",
    "df_ = pd.read_excel('data/susb/msa_naicssector_2013.xlsx',skiprows=4)\n",
    "df_ = df_.drop([0,1])\n",
    "df_ = df_[columns]\n",
    "df[2013] = df_.where( df_['ENTERPRISE EMPLOYMENT SIZE']=='01:  Total' ).dropna()"
   ]
  },
  {
   "cell_type": "code",
   "execution_count": 37,
   "metadata": {},
   "outputs": [],
   "source": [
    "# 2012\n",
    "df_ = pd.read_excel('data/susb/msa_naicssector_2012.xlsx',skiprows=5)\n",
    "df_ = df_.drop([0,1])\n",
    "df_ = df_[columns]\n",
    "df[2012] = df_.where( df_['ENTERPRISE EMPLOYMENT SIZE']==df_['ENTERPRISE EMPLOYMENT SIZE'].iloc[0] ).dropna()"
   ]
  },
  {
   "cell_type": "code",
   "execution_count": 46,
   "metadata": {},
   "outputs": [],
   "source": [
    "columns_old = ['FIPS MSA   CODE', 'MSA DESCRIPTION', 'NAICS   CODE ',\n",
    "       'NAICS DESCRIPTION', 'ENTERPRISE EMPLOYMENT SIZE', 'NUMBER OF FIRMS',\n",
    "       'NUMBER OF ESTABLISHMENTS', 'EMPLOYMENT',\n",
    "       'ANNUAL PAYROLL ($1,000)',\n",
    "       ]"
   ]
  },
  {
   "cell_type": "code",
   "execution_count": 57,
   "metadata": {},
   "outputs": [],
   "source": [
    "# 2011 1\n",
    "df_ = pd.read_excel('data/susb/msa_glensfallsny-owensboroky_naicssector_2011.xls',skiprows=5,usecols=[0,1,2,3,4,5,6,7,10])\n",
    "df_ = df_.drop([0,1])\n",
    "df_.columns = columns\n",
    "df_1 = df_.where( df_['ENTERPRISE EMPLOYMENT SIZE']==df_['ENTERPRISE EMPLOYMENT SIZE'].iloc[0] ).dropna()"
   ]
  },
  {
   "cell_type": "code",
   "execution_count": 58,
   "metadata": {},
   "outputs": [],
   "source": [
    "# 2011 2\n",
    "df_ = pd.read_excel('data/susb/msa_owossomi-zanesvilleoh_naicssector_2011.xls',skiprows=5,usecols=[0,1,2,3,4,5,6,7,10])\n",
    "df_ = df_.drop([0,1])\n",
    "df_.columns = columns\n",
    "df_2 = df_.where( df_['ENTERPRISE EMPLOYMENT SIZE']==df_['ENTERPRISE EMPLOYMENT SIZE'].iloc[0] ).dropna()"
   ]
  },
  {
   "cell_type": "code",
   "execution_count": 60,
   "metadata": {},
   "outputs": [],
   "source": [
    "# 2011 3\n",
    "df_ = pd.read_excel('data/susb/msa_abbevillela-glasgowky_naicssector_2011.xls',skiprows=5,usecols=[0,1,2,3,4,5,6,7,10])\n",
    "df_ = df_.drop([0,1])\n",
    "df_.columns = columns\n",
    "df_3 = df_.where( df_['ENTERPRISE EMPLOYMENT SIZE']==df_['ENTERPRISE EMPLOYMENT SIZE'].iloc[0] ).dropna()"
   ]
  },
  {
   "cell_type": "code",
   "execution_count": 61,
   "metadata": {},
   "outputs": [],
   "source": [
    "# 2011\n",
    "df[2011] = pd.concat([df_3,df_1,df_2])"
   ]
  },
  {
   "cell_type": "code",
   "execution_count": 64,
   "metadata": {},
   "outputs": [],
   "source": [
    "# 2010\n",
    "df_ = pd.read_excel('data/susb/msa_naicssector_2010.xlsx',skiprows=5,usecols=[0,1,2,3,4,5,6,7,10])\n",
    "df_ = df_.drop([0,1])\n",
    "df_.columns = columns\n",
    "df[2010] = df_.where( df_['ENTERPRISE EMPLOYMENT SIZE']==df_['ENTERPRISE EMPLOYMENT SIZE'].iloc[0] ).dropna()"
   ]
  },
  {
   "cell_type": "code",
   "execution_count": 66,
   "metadata": {},
   "outputs": [],
   "source": [
    "# 2009\n",
    "df_ = pd.read_excel('data/susb/msa_naicssector_2009.xlsx',skiprows=5,usecols=[0,1,2,3,4,5,6,7,10])\n",
    "df_ = df_.drop([0,1])\n",
    "df_.columns = columns\n",
    "df[2009] = df_.where( df_['ENTERPRISE EMPLOYMENT SIZE']==df_['ENTERPRISE EMPLOYMENT SIZE'].iloc[0] ).dropna()"
   ]
  },
  {
   "cell_type": "code",
   "execution_count": 67,
   "metadata": {},
   "outputs": [],
   "source": [
    "# 2008\n",
    "df_ = pd.read_excel('data/susb/msa_abbevillela-glasgowky_naicssector_2008.xls',skiprows=5,usecols=[0,1,2,3,4,5,6,7,10])\n",
    "df_ = df_.drop([0,1])\n",
    "df_.columns = columns\n",
    "df_1 = df_.where( df_['ENTERPRISE EMPLOYMENT SIZE']==df_['ENTERPRISE EMPLOYMENT SIZE'].iloc[0] ).dropna()"
   ]
  },
  {
   "cell_type": "code",
   "execution_count": 84,
   "metadata": {},
   "outputs": [],
   "source": [
    "df_ = pd.read_excel('data/susb/msa_glensfallsny-owensboroky_naicssector_2008.xls',skiprows=5,usecols=[0,1,2,3,4,5,6,7,10])\n",
    "df_ = df_.drop([0,1])\n",
    "df_.columns = columns\n",
    "df_2 = df_.where( df_['ENTERPRISE EMPLOYMENT SIZE']==df_['ENTERPRISE EMPLOYMENT SIZE'].iloc[0] ).dropna()"
   ]
  },
  {
   "cell_type": "code",
   "execution_count": 69,
   "metadata": {},
   "outputs": [],
   "source": [
    "df_ = pd.read_excel('data/susb/msa_owossomi-zanesvilleoh_naicssector_2008.xls',skiprows=5,usecols=[0,1,2,3,4,5,6,7,10])\n",
    "df_ = df_.drop([0,1])\n",
    "df_.columns = columns\n",
    "df_3 = df_.where( df_['ENTERPRISE EMPLOYMENT SIZE']==df_['ENTERPRISE EMPLOYMENT SIZE'].iloc[0] ).dropna()"
   ]
  },
  {
   "cell_type": "code",
   "execution_count": 70,
   "metadata": {},
   "outputs": [],
   "source": [
    "df[2008] = pd.concat([df_1,df_2,df_3])"
   ]
  },
  {
   "cell_type": "code",
   "execution_count": 21,
   "metadata": {},
   "outputs": [
    {
     "ename": "TypeError",
     "evalue": "unsupported operand type(s) for &: 'str' and 'bool'",
     "output_type": "error",
     "traceback": [
      "\u001b[0;31m---------------------------------------------------------------------------\u001b[0m",
      "\u001b[0;31mTypeError\u001b[0m                                 Traceback (most recent call last)",
      "\u001b[0;32m<ipython-input-21-ab0cb2ff9c5b>\u001b[0m in \u001b[0;36m<module>\u001b[0;34m\u001b[0m\n\u001b[1;32m     13\u001b[0m \u001b[0mdf_\u001b[0m \u001b[0;34m=\u001b[0m \u001b[0mdf_\u001b[0m\u001b[0;34m.\u001b[0m\u001b[0mdrop\u001b[0m\u001b[0;34m(\u001b[0m\u001b[0;34m[\u001b[0m\u001b[0;36m0\u001b[0m\u001b[0;34m,\u001b[0m\u001b[0;36m1\u001b[0m\u001b[0;34m]\u001b[0m\u001b[0;34m)\u001b[0m\u001b[0;34m\u001b[0m\u001b[0;34m\u001b[0m\u001b[0m\n\u001b[1;32m     14\u001b[0m \u001b[0mdf_\u001b[0m\u001b[0;34m.\u001b[0m\u001b[0mcolumns\u001b[0m \u001b[0;34m=\u001b[0m \u001b[0mcolumns\u001b[0m\u001b[0;34m\u001b[0m\u001b[0;34m\u001b[0m\u001b[0m\n\u001b[0;32m---> 15\u001b[0;31m \u001b[0mdf_3\u001b[0m \u001b[0;34m=\u001b[0m \u001b[0mdf_\u001b[0m\u001b[0;34m.\u001b[0m\u001b[0mwhere\u001b[0m\u001b[0;34m(\u001b[0m \u001b[0mdf_\u001b[0m\u001b[0;34m[\u001b[0m\u001b[0;34m'ENTERPRISE EMPLOYMENT SIZE'\u001b[0m\u001b[0;34m]\u001b[0m\u001b[0;34m==\u001b[0m\u001b[0mdf_\u001b[0m\u001b[0;34m[\u001b[0m\u001b[0;34m'ENTERPRISE EMPLOYMENT SIZE'\u001b[0m\u001b[0;34m]\u001b[0m\u001b[0;34m.\u001b[0m\u001b[0miloc\u001b[0m\u001b[0;34m[\u001b[0m\u001b[0;36m0\u001b[0m\u001b[0;34m]\u001b[0m \u001b[0;34m&\u001b[0m \u001b[0;32mTrue\u001b[0m \u001b[0;34m)\u001b[0m\u001b[0;34m.\u001b[0m\u001b[0mdropna\u001b[0m\u001b[0;34m(\u001b[0m\u001b[0;34m)\u001b[0m\u001b[0;34m\u001b[0m\u001b[0;34m\u001b[0m\u001b[0m\n\u001b[0m\u001b[1;32m     16\u001b[0m \u001b[0;34m\u001b[0m\u001b[0m\n\u001b[1;32m     17\u001b[0m \u001b[0mdf\u001b[0m\u001b[0;34m[\u001b[0m\u001b[0;36m2007\u001b[0m\u001b[0;34m]\u001b[0m \u001b[0;34m=\u001b[0m \u001b[0mpd\u001b[0m\u001b[0;34m.\u001b[0m\u001b[0mconcat\u001b[0m\u001b[0;34m(\u001b[0m\u001b[0;34m[\u001b[0m\u001b[0mdf_1\u001b[0m\u001b[0;34m,\u001b[0m\u001b[0mdf_2\u001b[0m\u001b[0;34m,\u001b[0m\u001b[0mdf_3\u001b[0m\u001b[0;34m]\u001b[0m\u001b[0;34m)\u001b[0m\u001b[0;34m\u001b[0m\u001b[0;34m\u001b[0m\u001b[0m\n",
      "\u001b[0;31mTypeError\u001b[0m: unsupported operand type(s) for &: 'str' and 'bool'"
     ]
    }
   ],
   "source": [
    "# 2007\n",
    "df_ = pd.read_excel('data/susb/msa_abbevillela-glasgowky_naicssector_2007.xls',skiprows=5,usecols=[0,1,2,3,4,5,6,7,10])\n",
    "df_ = df_.drop([0,1])\n",
    "df_.columns = columns\n",
    "df_1 = df_.where( df_['ENTERPRISE EMPLOYMENT SIZE']==df_['ENTERPRISE EMPLOYMENT SIZE'].iloc[0] ).dropna()\n",
    "\n",
    "df_ = pd.read_excel('data/susb/msa_glensfallsny-owensboroky_naicssector_2007.xls',skiprows=5,usecols=[0,1,2,3,4,5,6,7,10])\n",
    "df_ = df_.drop([0,1])\n",
    "df_.columns = columns\n",
    "df_2 = df_.where( df_['ENTERPRISE EMPLOYMENT SIZE']==df_['ENTERPRISE EMPLOYMENT SIZE'].iloc[0] ).dropna()\n",
    "\n",
    "df_ = pd.read_excel('data/susb/msa_owossomi-zanesvilleoh_naicssector_2007.xls',skiprows=5,usecols=[0,1,2,3,4,5,6,7,10])\n",
    "df_ = df_.drop([0,1])\n",
    "df_.columns = columns\n",
    "df_3 = df_.where( df_['ENTERPRISE EMPLOYMENT SIZE']==df_['ENTERPRISE EMPLOYMENT SIZE'].iloc[0]  ).dropna()\n",
    "\n",
    "df[2007] = pd.concat([df_1,df_2,df_3])"
   ]
  },
  {
   "cell_type": "code",
   "execution_count": 20,
   "metadata": {},
   "outputs": [
    {
     "data": {
      "text/html": [
       "<div>\n",
       "<style scoped>\n",
       "    .dataframe tbody tr th:only-of-type {\n",
       "        vertical-align: middle;\n",
       "    }\n",
       "\n",
       "    .dataframe tbody tr th {\n",
       "        vertical-align: top;\n",
       "    }\n",
       "\n",
       "    .dataframe thead th {\n",
       "        text-align: right;\n",
       "    }\n",
       "</style>\n",
       "<table border=\"1\" class=\"dataframe\">\n",
       "  <thead>\n",
       "    <tr style=\"text-align: right;\">\n",
       "      <th></th>\n",
       "      <th>FIPS    CODE</th>\n",
       "      <th>MSA DESCRIPTION</th>\n",
       "      <th>NAICS   CODE</th>\n",
       "      <th>NAICS DESCRIPTION</th>\n",
       "      <th>ENTERPRISE EMPLOYMENT SIZE</th>\n",
       "      <th>NUMBER OF FIRMS</th>\n",
       "      <th>NUMBER OF ESTABLISHMENTS</th>\n",
       "      <th>EMPLOYMENT</th>\n",
       "      <th>ANNUAL PAYROLL ($1,000)</th>\n",
       "    </tr>\n",
       "  </thead>\n",
       "  <tbody>\n",
       "    <tr>\n",
       "      <th>2</th>\n",
       "      <td>10020</td>\n",
       "      <td>Abbeville, LA Micropolitan Statistical Area</td>\n",
       "      <td>--</td>\n",
       "      <td>Total</td>\n",
       "      <td>01:   Total</td>\n",
       "      <td>969</td>\n",
       "      <td>1037</td>\n",
       "      <td>10100</td>\n",
       "      <td>308439</td>\n",
       "    </tr>\n",
       "    <tr>\n",
       "      <th>11</th>\n",
       "      <td>10020</td>\n",
       "      <td>Abbeville, LA Micropolitan Statistical Area</td>\n",
       "      <td>11</td>\n",
       "      <td>Forestry, Fishing, Hunting, and Agriculture Su...</td>\n",
       "      <td>01:   Total</td>\n",
       "      <td>11</td>\n",
       "      <td>11</td>\n",
       "      <td>47</td>\n",
       "      <td>1330</td>\n",
       "    </tr>\n",
       "    <tr>\n",
       "      <th>17</th>\n",
       "      <td>10020</td>\n",
       "      <td>Abbeville, LA Micropolitan Statistical Area</td>\n",
       "      <td>21</td>\n",
       "      <td>Mining</td>\n",
       "      <td>01:   Total</td>\n",
       "      <td>26</td>\n",
       "      <td>27</td>\n",
       "      <td>588</td>\n",
       "      <td>26926</td>\n",
       "    </tr>\n",
       "    <tr>\n",
       "      <th>25</th>\n",
       "      <td>10020</td>\n",
       "      <td>Abbeville, LA Micropolitan Statistical Area</td>\n",
       "      <td>22</td>\n",
       "      <td>Utilities</td>\n",
       "      <td>01:   Total</td>\n",
       "      <td>6</td>\n",
       "      <td>6</td>\n",
       "      <td>52</td>\n",
       "      <td>2458</td>\n",
       "    </tr>\n",
       "    <tr>\n",
       "      <th>32</th>\n",
       "      <td>10020</td>\n",
       "      <td>Abbeville, LA Micropolitan Statistical Area</td>\n",
       "      <td>23</td>\n",
       "      <td>Construction</td>\n",
       "      <td>01:   Total</td>\n",
       "      <td>97</td>\n",
       "      <td>99</td>\n",
       "      <td>0</td>\n",
       "      <td>0</td>\n",
       "    </tr>\n",
       "  </tbody>\n",
       "</table>\n",
       "</div>"
      ],
      "text/plain": [
       "   FIPS    CODE                              MSA DESCRIPTION NAICS   CODE   \\\n",
       "2         10020  Abbeville, LA Micropolitan Statistical Area            --   \n",
       "11        10020  Abbeville, LA Micropolitan Statistical Area            11   \n",
       "17        10020  Abbeville, LA Micropolitan Statistical Area            21   \n",
       "25        10020  Abbeville, LA Micropolitan Statistical Area            22   \n",
       "32        10020  Abbeville, LA Micropolitan Statistical Area            23   \n",
       "\n",
       "                                    NAICS DESCRIPTION  \\\n",
       "2                                               Total   \n",
       "11  Forestry, Fishing, Hunting, and Agriculture Su...   \n",
       "17                                             Mining   \n",
       "25                                          Utilities   \n",
       "32                                       Construction   \n",
       "\n",
       "   ENTERPRISE EMPLOYMENT SIZE NUMBER OF FIRMS NUMBER OF ESTABLISHMENTS  \\\n",
       "2                 01:   Total             969                     1037   \n",
       "11                01:   Total              11                       11   \n",
       "17                01:   Total              26                       27   \n",
       "25                01:   Total               6                        6   \n",
       "32                01:   Total              97                       99   \n",
       "\n",
       "   EMPLOYMENT ANNUAL PAYROLL ($1,000)  \n",
       "2       10100                  308439  \n",
       "11         47                    1330  \n",
       "17        588                   26926  \n",
       "25         52                    2458  \n",
       "32          0                       0  "
      ]
     },
     "execution_count": 20,
     "metadata": {},
     "output_type": "execute_result"
    }
   ],
   "source": [
    "df[2007].head()"
   ]
  },
  {
   "cell_type": "code",
   "execution_count": 80,
   "metadata": {},
   "outputs": [
    {
     "ename": "KeyError",
     "evalue": "2007",
     "output_type": "error",
     "traceback": [
      "\u001b[0;31m---------------------------------------------------------------------------\u001b[0m",
      "\u001b[0;31mKeyError\u001b[0m                                  Traceback (most recent call last)",
      "\u001b[0;32m<ipython-input-80-c6ba4da28daf>\u001b[0m in \u001b[0;36m<module>\u001b[0;34m\u001b[0m\n\u001b[1;32m      1\u001b[0m \u001b[0;31m# Saved the processed ones\u001b[0m\u001b[0;34m\u001b[0m\u001b[0;34m\u001b[0m\u001b[0;34m\u001b[0m\u001b[0m\n\u001b[1;32m      2\u001b[0m \u001b[0;32mfor\u001b[0m \u001b[0myear\u001b[0m \u001b[0;32min\u001b[0m \u001b[0mrange\u001b[0m\u001b[0;34m(\u001b[0m\u001b[0;36m2007\u001b[0m\u001b[0;34m,\u001b[0m\u001b[0;36m2018\u001b[0m\u001b[0;34m)\u001b[0m\u001b[0;34m:\u001b[0m\u001b[0;34m\u001b[0m\u001b[0;34m\u001b[0m\u001b[0m\n\u001b[0;32m----> 3\u001b[0;31m     \u001b[0mdf\u001b[0m\u001b[0;34m[\u001b[0m\u001b[0myear\u001b[0m\u001b[0;34m]\u001b[0m\u001b[0;34m.\u001b[0m\u001b[0mcolumns\u001b[0m \u001b[0;34m=\u001b[0m \u001b[0mnew_columns\u001b[0m\u001b[0;34m\u001b[0m\u001b[0;34m\u001b[0m\u001b[0m\n\u001b[0m\u001b[1;32m      4\u001b[0m     \u001b[0mdf\u001b[0m\u001b[0;34m[\u001b[0m\u001b[0myear\u001b[0m\u001b[0;34m]\u001b[0m\u001b[0;34m.\u001b[0m\u001b[0mto_csv\u001b[0m\u001b[0;34m(\u001b[0m\u001b[0;34m'data/msa_naicssector_cleaned_tot_'\u001b[0m\u001b[0;34m+\u001b[0m\u001b[0mstr\u001b[0m\u001b[0;34m(\u001b[0m\u001b[0myear\u001b[0m\u001b[0;34m)\u001b[0m\u001b[0;34m+\u001b[0m\u001b[0;34m'.csv'\u001b[0m\u001b[0;34m)\u001b[0m\u001b[0;34m\u001b[0m\u001b[0;34m\u001b[0m\u001b[0m\n",
      "\u001b[0;31mKeyError\u001b[0m: 2007"
     ]
    }
   ],
   "source": [
    "# Saved the processed ones\n",
    "for year in range(2007,2018):\n",
    "    df[year].columns = new_columns\n",
    "    df[year].to_csv('data/msa_naicssector_cleaned_tot_'+str(year)+'.csv')"
   ]
  },
  {
   "cell_type": "code",
   "execution_count": 82,
   "metadata": {},
   "outputs": [
    {
     "ename": "KeyError",
     "evalue": "2008",
     "output_type": "error",
     "traceback": [
      "\u001b[0;31m---------------------------------------------------------------------------\u001b[0m",
      "\u001b[0;31mKeyError\u001b[0m                                  Traceback (most recent call last)",
      "\u001b[0;32m<ipython-input-82-67863ea1b7a2>\u001b[0m in \u001b[0;36m<module>\u001b[0;34m\u001b[0m\n\u001b[0;32m----> 1\u001b[0;31m \u001b[0mdf\u001b[0m\u001b[0;34m[\u001b[0m\u001b[0;36m2008\u001b[0m\u001b[0;34m]\u001b[0m\u001b[0;34m\u001b[0m\u001b[0;34m\u001b[0m\u001b[0m\n\u001b[0m",
      "\u001b[0;31mKeyError\u001b[0m: 2008"
     ]
    }
   ],
   "source": [
    "df[2008]"
   ]
  },
  {
   "cell_type": "code",
   "execution_count": null,
   "metadata": {},
   "outputs": [],
   "source": [
    "columns_v1 = ['FIPS Code', 'MSA Description', 'NAICS Code', 'NAICS Description',\n",
    "       'Enterprise Employment Size', 'Number of Firms',\n",
    "       'Number of Establishments', 'Employment', 'Annual Payroll ($1,000)']\n",
    "columns_v2 = ['FIPS Code', 'MSA Description', 'NAICS Code', 'NAICS Description', 'Size Measure',\n",
    "       'Total', '0-4', '5-9', '10-19', '20-99', '100-499', '500+']]"
   ]
  },
  {
   "cell_type": "code",
   "execution_count": 31,
   "metadata": {},
   "outputs": [],
   "source": [
    "# 2006\n",
    "df_ = pd.read_excel('data/susb/msa_abbevillela-lawrenceburgtn_naicssector_2006.xls',skiprows=8,usecols=list(range(6)))\n",
    "#df_ = df_.drop([0,1])\n",
    "#df_.columns = columns\n",
    "#df_1 = df_.where( df_['ENTERPRISE EMPLOYMENT SIZE']==df_['ENTERPRISE EMPLOYMENT SIZE'].iloc[0] ).dropna()\n",
    "\n",
    "#df_ = pd.read_excel('data/susb/msa_lawtonok-zanesvilleoh_naicssector_2006.xls',skiprows=8,usecols=list(range(12)))\n",
    "#df_ = df_.drop([0,1])\n",
    "#df_.columns = columns\n",
    "#df_2 = df_.where( df_['ENTERPRISE EMPLOYMENT SIZE']==df_['ENTERPRISE EMPLOYMENT SIZE'].iloc[0] ).dropna()\n",
    "\n",
    "#df[2006] = pd.concat([df_1,df_2])"
   ]
  },
  {
   "cell_type": "code",
   "execution_count": 32,
   "metadata": {},
   "outputs": [
    {
     "data": {
      "text/html": [
       "<div>\n",
       "<style scoped>\n",
       "    .dataframe tbody tr th:only-of-type {\n",
       "        vertical-align: middle;\n",
       "    }\n",
       "\n",
       "    .dataframe tbody tr th {\n",
       "        vertical-align: top;\n",
       "    }\n",
       "\n",
       "    .dataframe thead th {\n",
       "        text-align: right;\n",
       "    }\n",
       "</style>\n",
       "<table border=\"1\" class=\"dataframe\">\n",
       "  <thead>\n",
       "    <tr style=\"text-align: right;\">\n",
       "      <th></th>\n",
       "      <th>CODE</th>\n",
       "      <th>MSA DESCRIPTION</th>\n",
       "      <th>CODE.1</th>\n",
       "      <th>NAICS DESCRIPTION</th>\n",
       "      <th>DATA TYPE</th>\n",
       "      <th>TOTAL</th>\n",
       "    </tr>\n",
       "  </thead>\n",
       "  <tbody>\n",
       "    <tr>\n",
       "      <th>0</th>\n",
       "      <td>10020</td>\n",
       "      <td>Abbeville, LA Micropolitan Statistical Area</td>\n",
       "      <td>--</td>\n",
       "      <td>Total</td>\n",
       "      <td>Firms</td>\n",
       "      <td>932</td>\n",
       "    </tr>\n",
       "    <tr>\n",
       "      <th>1</th>\n",
       "      <td>10020</td>\n",
       "      <td>Abbeville, LA Micropolitan Statistical Area</td>\n",
       "      <td>--</td>\n",
       "      <td>Total</td>\n",
       "      <td>Establishments</td>\n",
       "      <td>994</td>\n",
       "    </tr>\n",
       "    <tr>\n",
       "      <th>2</th>\n",
       "      <td>10020</td>\n",
       "      <td>Abbeville, LA Micropolitan Statistical Area</td>\n",
       "      <td>--</td>\n",
       "      <td>Total</td>\n",
       "      <td>Employment</td>\n",
       "      <td>9829</td>\n",
       "    </tr>\n",
       "    <tr>\n",
       "      <th>3</th>\n",
       "      <td>10020</td>\n",
       "      <td>Abbeville, LA Micropolitan Statistical Area</td>\n",
       "      <td>--</td>\n",
       "      <td>Total</td>\n",
       "      <td>Annual Payroll ($1,000)</td>\n",
       "      <td>286576</td>\n",
       "    </tr>\n",
       "    <tr>\n",
       "      <th>4</th>\n",
       "      <td>10020</td>\n",
       "      <td>Abbeville, LA Micropolitan Statistical Area</td>\n",
       "      <td>11</td>\n",
       "      <td>Forestry, Fishing, Hunting, and Agriculture Su...</td>\n",
       "      <td>Firms</td>\n",
       "      <td>9</td>\n",
       "    </tr>\n",
       "  </tbody>\n",
       "</table>\n",
       "</div>"
      ],
      "text/plain": [
       "    CODE                              MSA DESCRIPTION CODE.1  \\\n",
       "0  10020  Abbeville, LA Micropolitan Statistical Area     --   \n",
       "1  10020  Abbeville, LA Micropolitan Statistical Area     --   \n",
       "2  10020  Abbeville, LA Micropolitan Statistical Area     --   \n",
       "3  10020  Abbeville, LA Micropolitan Statistical Area     --   \n",
       "4  10020  Abbeville, LA Micropolitan Statistical Area     11   \n",
       "\n",
       "                                   NAICS DESCRIPTION                DATA TYPE  \\\n",
       "0                                              Total                    Firms   \n",
       "1                                              Total           Establishments   \n",
       "2                                              Total               Employment   \n",
       "3                                              Total  Annual Payroll ($1,000)   \n",
       "4  Forestry, Fishing, Hunting, and Agriculture Su...                    Firms   \n",
       "\n",
       "    TOTAL  \n",
       "0     932  \n",
       "1     994  \n",
       "2    9829  \n",
       "3  286576  \n",
       "4       9  "
      ]
     },
     "execution_count": 32,
     "metadata": {},
     "output_type": "execute_result"
    }
   ],
   "source": [
    "#pd.pivot(df_,index = \n",
    "#df_.stack( ['TOTAL', '0-4', '5-9', '10-19', '20-99', '100-499', '500+'] )\n",
    "#df_.columns\n",
    "df_.head()"
   ]
  },
  {
   "cell_type": "code",
   "execution_count": 12,
   "metadata": {},
   "outputs": [
    {
     "data": {
      "text/plain": [
       "Index(['CODE', 'MSA DESCRIPTION', 'CODE.1', 'NAICS DESCRIPTION', 'DATA TYPE',\n",
       "       'TOTAL', '0-4', '5-9', '10-19', '20-99', '100-499', '500+'],\n",
       "      dtype='object')"
      ]
     },
     "execution_count": 12,
     "metadata": {},
     "output_type": "execute_result"
    }
   ],
   "source": [
    "df_.columns"
   ]
  },
  {
   "cell_type": "code",
   "execution_count": null,
   "metadata": {},
   "outputs": [],
   "source": []
  },
  {
   "cell_type": "code",
   "execution_count": null,
   "metadata": {},
   "outputs": [],
   "source": []
  },
  {
   "cell_type": "code",
   "execution_count": 83,
   "metadata": {},
   "outputs": [
    {
     "ename": "KeyError",
     "evalue": "2006",
     "output_type": "error",
     "traceback": [
      "\u001b[0;31m---------------------------------------------------------------------------\u001b[0m",
      "\u001b[0;31mKeyError\u001b[0m                                  Traceback (most recent call last)",
      "\u001b[0;32m<ipython-input-83-d20156dcef4f>\u001b[0m in \u001b[0;36m<module>\u001b[0;34m\u001b[0m\n\u001b[0;32m----> 1\u001b[0;31m \u001b[0mdf\u001b[0m\u001b[0;34m[\u001b[0m\u001b[0;36m2006\u001b[0m\u001b[0;34m]\u001b[0m\u001b[0;34m.\u001b[0m\u001b[0mhead\u001b[0m\u001b[0;34m(\u001b[0m\u001b[0;34m)\u001b[0m\u001b[0;34m\u001b[0m\u001b[0;34m\u001b[0m\u001b[0m\n\u001b[0m",
      "\u001b[0;31mKeyError\u001b[0m: 2006"
     ]
    }
   ],
   "source": [
    "df[2006].head()"
   ]
  },
  {
   "cell_type": "code",
   "execution_count": null,
   "metadata": {},
   "outputs": [],
   "source": []
  },
  {
   "cell_type": "code",
   "execution_count": null,
   "metadata": {},
   "outputs": [],
   "source": []
  }
 ],
 "metadata": {
  "kernelspec": {
   "display_name": "Python 3",
   "language": "python",
   "name": "python3"
  },
  "language_info": {
   "codemirror_mode": {
    "name": "ipython",
    "version": 3
   },
   "file_extension": ".py",
   "mimetype": "text/x-python",
   "name": "python",
   "nbconvert_exporter": "python",
   "pygments_lexer": "ipython3",
   "version": "3.9.1"
  }
 },
 "nbformat": 4,
 "nbformat_minor": 4
}
