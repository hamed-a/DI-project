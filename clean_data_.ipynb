{
 "cells": [
  {
   "cell_type": "code",
   "execution_count": null,
   "metadata": {},
   "outputs": [],
   "source": [
    "import numpy as np"
   ]
  },
  {
   "cell_type": "markdown",
   "metadata": {},
   "source": [
    "# Clean Metropolitan data"
   ]
  },
  {
   "cell_type": "code",
   "execution_count": null,
   "metadata": {},
   "outputs": [],
   "source": [
    "# for years 2007-2017\n",
    "usecols_v1 = [0,1,2,3,4,7]\n",
    "columns_v1 = ['FIPS Code', 'MSA Description', 'NAICS Code', 'NAICS Description',\n",
    "       'Enterprise Employment Size',\n",
    "        'Employment']\n",
    "\n",
    "def clean_v1(df_y):\n",
    "    df_y = df_y.drop([0,1])\n",
    "    df_y.columns = columns_v1\n",
    "    df_y = df_y.where( df_y['Enterprise Employment Size']== df_y['Enterprise Employment Size'].iloc[0] ).dropna()\n",
    "    df_y.rename(columns={'Employment':'Total Employment'},inplace=True)\n",
    "    del df_y['Enterprise Employment Size']\n",
    "    return df_y\n",
    "\n",
    "# for years 1998-2007\n",
    "usecols_v2 = list(range(6))\n",
    "columns_v2 = ['FIPS Code', 'MSA Description', 'NAICS Code', \n",
    "              'NAICS Description', 'Size Measure', 'Total']\n",
    "\n",
    "def clean_v2(df_y):\n",
    "    #df_y = df_y.drop([0,1])\n",
    "    df_y.columns = columns_v2\n",
    "    #df_y['FIPS Code'] = df_y['FIPS Code'].astype('int64')\n",
    "    df_y = df_y.where( df_y['Size Measure']== 'Employment' ).dropna()\n",
    "    del df_y['Size Measure']\n",
    "    df_y.rename(columns={'Total':'Total Employment'},inplace=True)\n",
    "    return df_y\n",
    "\n",
    "# for 1997\n",
    "def clean_v3(df_y):\n",
    "    #df_y = df_y.drop([0,1])\n",
    "    df_y.columns = columns_v2\n",
    "    #df_y['FIPS Code'] = pd.to_numeric(df_y['FIPS Code'],downcast='integer',errors='coerce') #astype('int64')\n",
    "    df_y['NAICS Code'] = df_y['NAICS Code'].map(lambda x: x[:2])\n",
    "    df_y = df_y.where( df_y['Size Measure']== 'Employment' ).dropna()\n",
    "    del df_y['Size Measure']\n",
    "    df_y.rename(columns={'Total':'Total Employment'},inplace=True)\n",
    "    return df_y"
   ]
  },
  {
   "cell_type": "markdown",
   "metadata": {},
   "source": [
    "## Read and clean: level 1\n",
    "- gather only total employment data"
   ]
  },
  {
   "cell_type": "code",
   "execution_count": null,
   "metadata": {},
   "outputs": [],
   "source": [
    "df={}\n",
    "\n",
    "# reading data and cleaning\n",
    "df_1 = pd.read_excel('data/msa/msa_naicssector_2017.xlsx',skiprows=5,usecols=usecols_v1)\n",
    "df[2017] = clean_v1(df_1)\n",
    "\n",
    "df_1 = pd.read_excel('data/msa/msa_naicssector_2016.xlsx',skiprows=5,usecols=usecols_v1)\n",
    "df[2016] = clean_v1(df_1)\n",
    "\n",
    "df_1 = pd.read_excel('data/msa/msa_naicssector_2015.xlsx',skiprows=4,usecols=usecols_v1)\n",
    "df[2015] = clean_v1(df_1)\n",
    "\n",
    "df_1 = pd.read_excel('data/msa/msa_naicssector_2014.xlsx',skiprows=4,usecols=usecols_v1)\n",
    "df[2014] = clean_v1(df_1)\n",
    "\n",
    "df_1 = pd.read_excel('data/msa/msa_naicssector_2013.xlsx',skiprows=4,usecols=usecols_v1)\n",
    "df[2013] = clean_v1(df_1)\n",
    "\n",
    "df_1 = pd.read_excel('data/msa/msa_naicssector_2012.xlsx',skiprows=5,usecols=usecols_v1)\n",
    "df[2012] = clean_v1(df_1)\n",
    "\n",
    "df_1 = pd.read_excel('data/msa/msa_abbevillela-glasgowky_naicssector_2011.xls',skiprows=5,usecols=usecols_v1)\n",
    "df_2 = pd.read_excel('data/msa/msa_glensfallsny-owensboroky_naicssector_2011.xls',skiprows=5,usecols=usecols_v1)\n",
    "df_3 = pd.read_excel('data/msa/msa_owossomi-zanesvilleoh_naicssector_2011.xls',skiprows=5,usecols=usecols_v1)\n",
    "df[2011] = pd.concat([clean_v1(df_1),clean_v1(df_2),clean_v1(df_3)])\n",
    "\n",
    "df_1 = pd.read_excel('data/msa/msa_naicssector_2010.xlsx',skiprows=5,usecols=usecols_v1)\n",
    "df[2010] = clean_v1(df_1)\n",
    "\n",
    "df_1 = pd.read_excel('data/msa/msa_naicssector_2009.xlsx',skiprows=5,usecols=usecols_v1)\n",
    "df[2009] = clean_v1(df_1)\n",
    "\n",
    "df_1 = pd.read_excel('data/msa/msa_abbevillela-glasgowky_naicssector_2008.xls',skiprows=5,usecols=usecols_v1)\n",
    "df_2 = pd.read_excel('data/msa/msa_glensfallsny-owensboroky_naicssector_2008.xls',skiprows=5,usecols=usecols_v1)\n",
    "df_3 = pd.read_excel('data/msa/msa_owossomi-zanesvilleoh_naicssector_2008.xls',skiprows=5,usecols=usecols_v1)\n",
    "df[2008] = pd.concat([clean_v1(df_1),clean_v1(df_2),clean_v1(df_3)])\n",
    "\n",
    "df_1 = pd.read_excel('data/msa/msa_abbevillela-glasgowky_naicssector_2007.xls',skiprows=5,usecols=usecols_v1)\n",
    "df_2 = pd.read_excel('data/msa/msa_glensfallsny-owensboroky_naicssector_2007.xls',skiprows=6,usecols=usecols_v1)\n",
    "df_3 = pd.read_excel('data/msa/msa_owossomi-zanesvilleoh_naicssector_2007.xls',skiprows=5,usecols=usecols_v1)\n",
    "df[2007] = pd.concat([clean_v1(df_1),clean_v1(df_2),clean_v1(df_3)])\n",
    "\n",
    "df_1 = pd.read_excel('data/msa/msa_abbevillela-lawrenceburgtn_naicssector_2006.xls',skiprows=8,usecols=usecols_v2)\n",
    "df_2 = pd.read_excel('data/msa/msa_lawtonok-zanesvilleoh_naicssector_2006.xls',skiprows=8,usecols=usecols_v2)\n",
    "df[2006] = pd.concat([clean_v2(df_1),clean_v2(df_2)])\n",
    "\n",
    "df_1 = pd.read_excel('data/msa/msa_abbevillela-lawrenceburgtn_naicssector_2005.xls',skiprows=8,usecols=usecols_v2)\n",
    "df_2 = pd.read_excel('data/msa/msa_lawtonok-zanesvilleoh_naicssector_2005.xls',skiprows=8,usecols=usecols_v2)\n",
    "df[2005] = pd.concat([clean_v2(df_1),clean_v2(df_2)])\n",
    "\n",
    "df_1 = pd.read_excel('data/msa/msa_abbevillela-lawrenceburgtn_naicssector_2004.xls',skiprows=8,usecols=usecols_v2)\n",
    "df_2 = pd.read_excel('data/msa/msa_lawtonok-zanesvilleoh_naicssector_2004.xls',skiprows=8,usecols=usecols_v2)\n",
    "df[2004] = pd.concat([clean_v2(df_1),clean_v2(df_2)])\n",
    "\n",
    "df_1 = pd.read_excel('data/msa/msa_abbevillela-lawrenceburgtn_naicssector_2003.xls',skiprows=8,usecols=usecols_v2)\n",
    "df_2 = pd.read_excel('data/msa/msa_lawtonok-zanesvilleoh_naicssector_2003.xls',skiprows=8,usecols=usecols_v2)\n",
    "df[2003] = pd.concat([clean_v2(df_1),clean_v2(df_2)])\n",
    "\n",
    "df_1 = pd.read_excel('data/msa/msa_abilenetx-lansingmi_naicssector_2002.xls',skiprows=7,usecols=usecols_v2)\n",
    "df_2 = pd.read_excel('data/msa/msa_laredotx-yumaaz_naicssector_2002.xls',skiprows=7,usecols=usecols_v2)\n",
    "df[2002] = pd.concat([clean_v2(df_1),clean_v2(df_2)])\n",
    "\n",
    "df_1= pd.read_excel('data/msa/msa_naicssector_2001.xls',skiprows=7,usecols=usecols_v2)\n",
    "df[2001] = clean_v2(df_1)\n",
    "\n",
    "df_1= pd.read_excel('data/msa/msa_naicssector_2000.xls',skiprows=7,usecols=usecols_v2)\n",
    "df[2000] = clean_v2(df_1)\n",
    "\n",
    "df_1= pd.read_excel('data/msa/msa_naicssector_1999.xls',skiprows=7,usecols=usecols_v2)\n",
    "df[1999] = clean_v2(df_1)\n",
    "\n",
    "df_1= pd.read_excel('data/msa/msa_naicssector_1998.xls',skiprows=7,usecols=usecols_v2)\n",
    "df[1998] = clean_v2(df_1)\n",
    "\n",
    "df_1= pd.read_excel('data/msa/msa_sicmajorindustry_1997.xls',skiprows=7,usecols=usecols_v2)\n",
    "df[1997] = clean_v3(df_1)\n"
   ]
  },
  {
   "cell_type": "markdown",
   "metadata": {},
   "source": [
    "- Get rid of useless data"
   ]
  },
  {
   "cell_type": "code",
   "execution_count": null,
   "metadata": {},
   "outputs": [],
   "source": [
    "for year in range(1997,2018):\n",
    "    df[year]['Total Employment'] = pd.to_numeric( df[year]['Total Employment'],downcast='integer',errors='coerce' )\n",
    "    df[year] = df[year].dropna()\n",
    "    df[year].rename(columns= {'Total Employment':'Total Employment - '+str(year)} ,inplace=True)\n",
    "    \n",
    "    del df[year]['FIPS Code'], df[year]['NAICS Description']\n",
    "    "
   ]
  },
  {
   "cell_type": "markdown",
   "metadata": {},
   "source": [
    "## clean: level 2\n",
    "- standardize MSA names"
   ]
  },
  {
   "cell_type": "markdown",
   "metadata": {},
   "source": [
    "### utilities"
   ]
  },
  {
   "cell_type": "code",
   "execution_count": null,
   "metadata": {},
   "outputs": [],
   "source": [
    "MSA_df = pd.read_csv('data/MSA_wikipedia.csv',delimiter='\\t')\n",
    "\n",
    "MSAs = MSA_df['Metropolitan statistical area ']\n",
    "MSA_shorts = MSAs.map(lambda x: x.split(',')[0].split('-')[0].lower() )\n",
    "MSA_shorts_dict = {MSA_shorts.iloc[i]:\n",
    "                   {'MSA': MSAs.iloc[i][:-1],\n",
    "                    'State': MSAs.iloc[i].split(', ')[1].split(' ')[0] } for i in range(len(MSAs))  }\n",
    "\n",
    "\n",
    "state_abbr_df = pd.read_csv('data/state_abbr.csv',delimiter='\\t',names=['State','Abbr.'])\n",
    "state_to_abbr_dict = { state_abbr_df['State'].iloc[i].title()[0:-1] :state_abbr_df['Abbr.'].iloc[i] for i in range(len(state_abbr_df)) }\n",
    "state_to_abbr_dict['United States'] = 'US'\n",
    "\n",
    "abbr_to_state_dict ={ v:k for k,v in state_to_abbr_dict.items()}\n",
    "\n",
    "MSA_to_state_dict = { MSAs.iloc[i][:-1]: MSAs.iloc[i].split(', ')[1].split(' ')[0]  for i in range(len(MSAs))  }"
   ]
  },
  {
   "cell_type": "code",
   "execution_count": null,
   "metadata": {},
   "outputs": [],
   "source": [
    "# for 1997-2002\n",
    "def standard_MSA_v1(string):\n",
    "    for short in MSA_shorts_dict.keys():\n",
    "        if (short in string.lower()) and string.split(', ')[1].split(' ')[0]==MSA_shorts_dict[short]['State']:\n",
    "            return MSA_shorts_dict[short]\n",
    "    return { 'MSA':None, 'State':None }\n",
    "# for 2003-2017\n",
    "def standard_MSA_v2(string):\n",
    "    if 'micro' in string.lower():\n",
    "        return { 'MSA':None, 'State':None }\n",
    "    for short in MSA_shorts_dict.keys():\n",
    "        if (short in string.lower()) and string.split(', ')[1].split(' ')[0]==MSA_shorts_dict[short]['State']:\n",
    "            return MSA_shorts_dict[short]\n",
    "    return { 'MSA':None, 'State':None }"
   ]
  },
  {
   "cell_type": "code",
   "execution_count": null,
   "metadata": {},
   "outputs": [],
   "source": [
    "for year in range(1998,2003):\n",
    "    df[year]['MSA'] = df[year]['MSA Description'].map( lambda x: standard_MSA_v1(x)['MSA'] )\n",
    "    #df[year]['State'] = df[year]['MSA Description'].map( lambda x: standard_MSA_v1(x)[1] )\n",
    "    df[year] = df[year][ ~df[year]['MSA'].isna() ] \n",
    "    del df[year]['MSA Description']\n",
    "        \n",
    "for year in range(2003,2018):\n",
    "    df[year]['MSA'] = df[year]['MSA Description'].map( lambda x: standard_MSA_v2(x)['MSA'] )\n",
    "    #df[year]['State'] = df[year]['MSA Description'].map( lambda x: standard_MSA_v2(x)[1] )\n",
    "    df[year] = df[year][ ~df[year]['MSA'].isna() ] \n",
    "    del df[year]['MSA Description']"
   ]
  },
  {
   "cell_type": "markdown",
   "metadata": {},
   "source": [
    "## Save cleaned data"
   ]
  },
  {
   "cell_type": "code",
   "execution_count": null,
   "metadata": {},
   "outputs": [],
   "source": [
    "for year in range(1997,2018):\n",
    "    df[year].to_csv('data/cleaned/msa_naicssector_cleaned_totEmploy_'+str(year)+'.csv',index=False)"
   ]
  },
  {
   "cell_type": "markdown",
   "metadata": {},
   "source": [
    "# Clean state and country data"
   ]
  },
  {
   "cell_type": "markdown",
   "metadata": {},
   "source": [
    "## State clean tools"
   ]
  },
  {
   "cell_type": "code",
   "execution_count": null,
   "metadata": {},
   "outputs": [],
   "source": [
    "# for years 2007-2017\n",
    "usecols_v1 = [1,2,3,4,7]\n",
    "columns_v1 = [ 'State', 'NAICS Code', 'NAICS Description',\n",
    "       'Enterprise Employment Size',\n",
    "        'Employment']\n",
    "\n",
    "def clean_v1(df_y):\n",
    "    df_y = df_y.drop([0,1])\n",
    "    df_y.columns = columns_v1\n",
    "    df_y = df_y.where( df_y['Enterprise Employment Size']== df_y['Enterprise Employment Size'].iloc[0] ).dropna()\n",
    "    df_y.rename(columns={'Employment':'Total Employment'},inplace=True)\n",
    "    del df_y['Enterprise Employment Size']\n",
    "    return df_y\n",
    "\n",
    "# for years -2006\n",
    "usecols_v2 = list(range(5))\n",
    "columns_v2 = [ 'State', 'NAICS Code', \n",
    "              'NAICS Description', 'Size Measure', 'Total']\n",
    "\n",
    "def clean_v2(df_y):\n",
    "    #df_y = df_y.drop([0,1])\n",
    "    df_y.columns = columns_v2\n",
    "    #df_y['FIPS Code'] = df_y['FIPS Code'].astype('int64')\n",
    "    df_y = df_y.where( df_y['Size Measure']== 'Employment' ).dropna()\n",
    "    del df_y['Size Measure']\n",
    "    df_y.rename(columns={'Total':'Total Employment'},inplace=True)\n",
    "    return df_y\n",
    "\n",
    "\n"
   ]
  },
  {
   "cell_type": "markdown",
   "metadata": {},
   "source": [
    "## Country clean tools"
   ]
  },
  {
   "cell_type": "code",
   "execution_count": null,
   "metadata": {},
   "outputs": [],
   "source": [
    "# for years 2007-2010\n",
    "usecols_us_v1 = [0,1,2,5]\n",
    "columns_us_v1 = ['NAICS Code', 'NAICS Description',\n",
    "       'Enterprise Employment Size',\n",
    "        'Employment']\n",
    "def clean_us_v1(df_y):\n",
    "    df_y = df_y.drop([0,1])\n",
    "    df_y.columns = columns_us_v1\n",
    "    #df_y['FIPS Code'] = pd.Series( ['00'] ).repeat( len(df_y) ).reset_index(drop=True)\n",
    "    df_y['State'] = pd.Series( ['United States'] ).repeat( len(df_y) ).reset_index(drop=True)\n",
    "    df_y = df_y.where( df_y['Enterprise Employment Size']== df_y['Enterprise Employment Size'].iloc[0] ).dropna()\n",
    "    df_y.rename(columns={'Employment':'Total Employment'},inplace=True)\n",
    "    del df_y['Enterprise Employment Size']\n",
    "    return df_y\n",
    "\n",
    "# for years 1998-2006\n",
    "usecols_us_v2 = [0,1,2,3]\n",
    "columns_us_v2 = [ 'NAICS Code', \n",
    "              'NAICS Description', 'Size Measure', 'Total']\n",
    "def clean_us_v2(df_y):\n",
    "    df_y.columns = columns_us_v2\n",
    "    #df_y['FIPS Code'] = pd.Series( ['00'] ).repeat( len(df_y) ).reset_index(drop=True)\n",
    "    df_y['State'] = pd.Series( ['United States'] ).repeat( len(df_y) ).reset_index(drop=True)\n",
    "    df_y = df_y.where( df_y['Size Measure']== 'Employment' ).dropna()\n",
    "    del df_y['Size Measure']\n",
    "    df_y.rename(columns={'Total':'Total Employment'},inplace=True)\n",
    "    return df_y"
   ]
  },
  {
   "cell_type": "markdown",
   "metadata": {},
   "source": [
    "## reading and cleaning"
   ]
  },
  {
   "cell_type": "code",
   "execution_count": null,
   "metadata": {},
   "outputs": [],
   "source": [
    "df_state={}\n",
    "\n",
    "df_1 = pd.read_excel('data/state/us_state_naicssector_small_emplsize_2017.xlsx',skiprows=6,usecols=usecols_v1)\n",
    "df_state[2017] = clean_v1(df_1)\n",
    "\n",
    "df_1 = pd.read_excel('data/state/us_state_naicssector_small_emplsize_2016.xlsx',skiprows=6,usecols=usecols_v1)\n",
    "df_state[2016] = clean_v1(df_1)\n",
    "\n",
    "df_1 = pd.read_excel('data/state/us_state_naicssector_small_emplsize_2015.xlsx',skiprows=5,usecols=usecols_v1)\n",
    "df_state[2015] = clean_v1(df_1)\n",
    "\n",
    "df_1 = pd.read_excel('data/state/us_state_naicssector_small_emplsize_2014.xlsx',skiprows=5,usecols=usecols_v1)\n",
    "df_state[2014] = clean_v1(df_1)\n",
    "\n",
    "df_1 = pd.read_excel('data/state/us_state_naicssector_small_emplsize_2013.xls',skiprows=5,usecols=usecols_v1)\n",
    "df_state[2013] = clean_v1(df_1)\n",
    "\n",
    "df_1 = pd.read_excel('data/state/us_state_naicssector_small_emplsize_2012.xls',skiprows=5,usecols=usecols_v1)\n",
    "df_state[2012] = clean_v1(df_1)\n",
    "\n",
    "df_1 = pd.read_excel('data/state/us_state_naicssector_small_emplsize_2011.xls',skiprows=4,usecols=usecols_v1)\n",
    "df_state[2011] = clean_v1(df_1)\n",
    "\n",
    "df_1 = pd.read_excel('data/state/us_naicssector_small_emplsize_2010.xls',skiprows=4,usecols=usecols_us_v1)\n",
    "df_2 = pd.read_excel('data/state/state_naicssector_2010.xls',skiprows=4,usecols=usecols_v1)\n",
    "df_state[2010] = pd.concat([clean_us_v1(df_1),clean_v1(df_2)])\n",
    "\n",
    "\n",
    "df_1 = pd.read_excel('data/state/us_naicssector_small_emplsize_2009.xls',skiprows=4,usecols=usecols_us_v1)\n",
    "df_2 = pd.read_excel('data/state/state_naicssector_2009.xls',skiprows=4,usecols=usecols_v1)\n",
    "df_state[2009] = pd.concat([clean_us_v1(df_1),clean_v1(df_2)])\n",
    "\n",
    "df_1 = pd.read_excel('data/state/us_naicssector_small_emplsize_2008.xls',skiprows=3,usecols=usecols_us_v1)\n",
    "df_2 = pd.read_excel('data/state/state_naicssector_2008.xls',skiprows=3,usecols=usecols_v1)\n",
    "df_state[2008] = pd.concat([clean_us_v1(df_1),clean_v1(df_2)])\n",
    "\n",
    "df_1 = pd.read_excel('data/state/us_naicssector_small_emplsize_2007.xls',skiprows=4,usecols=usecols_us_v1)\n",
    "df_2 = pd.read_excel('data/state/state_naicssector_2007.xls',skiprows=4,usecols=[0,1,2,3,6])\n",
    "df_state[2007] = pd.concat([clean_us_v1(df_1),clean_v1(df_2)])\n",
    "\n",
    "df_1 = pd.read_excel('data/state/us_naicssector_empl2500_2006.xls',skiprows=7,usecols=usecols_us_v2)\n",
    "df_2 = pd.read_excel('data/state/state_naicssector_2006.xls',skiprows=7,usecols=usecols_v2)\n",
    "df_state[2006] = pd.concat([clean_us_v2(df_1),clean_v2(df_2)])\n",
    "\n",
    "df_1 = pd.read_excel('data/state/us_naicssector_empl2500_2005.xls',skiprows=7,usecols=usecols_us_v2)\n",
    "df_2 = pd.read_excel('data/state/state_naicssector_2005.xls',skiprows=7,usecols=usecols_v2)\n",
    "df_state[2005] = pd.concat([clean_us_v2(df_1),clean_v2(df_2)])\n",
    "\n",
    "df_1 = pd.read_excel('data/state/us_naicssector_empl2500_2004.xls',skiprows=7,usecols=usecols_us_v2)\n",
    "df_2 = pd.read_excel('data/state/state_naicssector_2004.xls',skiprows=7,usecols=usecols_v2)\n",
    "df_state[2004] = pd.concat([clean_us_v2(df_1),clean_v2(df_2)])\n",
    "\n",
    "df_1 = pd.read_excel('data/state/us_naicssector_empl2500_2003.xls',skiprows=7,usecols=usecols_us_v2)\n",
    "df_2 = pd.read_excel('data/state/state_naicssector_2003.xls',skiprows=7,usecols=usecols_v2)\n",
    "df_state[2003] = pd.concat([clean_us_v2(df_1),clean_v2(df_2)])\n",
    "\n",
    "df_1 = pd.read_excel('data/state/us_naicssector_empl2500_2002.xls',skiprows=7,usecols=usecols_us_v2)\n",
    "df_2 = pd.read_excel('data/state/state_naicssector_2002.xls',skiprows=7,usecols=usecols_v2)\n",
    "df_state[2002] = pd.concat([clean_us_v2(df_1),clean_v2(df_2)])\n",
    "\n",
    "df_1 = pd.read_excel('data/state/us_state_naicssector_empl2500_2001.xls',skiprows=7,usecols=usecols_v2)\n",
    "df_state[2001] = clean_v2(df_1)\n",
    "\n",
    "df_1 = pd.read_excel('data/state/us_state_naicssector_empl2500_2000.xls',skiprows=7,usecols=usecols_v2)\n",
    "df_state[2000] = clean_v2(df_1)\n",
    "\n",
    "df_1 = pd.read_excel('data/state/us_state_naicssector_empl2500_1999.xls',skiprows=7,usecols=usecols_v2)\n",
    "df_state[1999] = clean_v2(df_1)\n",
    "\n",
    "df_1 = pd.read_excel('data/state/us_state_naicssector_empl2500_1998.xls',skiprows=7,usecols=usecols_v2)\n",
    "df_state[1998] = clean_v2(df_1)\n"
   ]
  },
  {
   "cell_type": "markdown",
   "metadata": {},
   "source": [
    "- Get rid of useless data"
   ]
  },
  {
   "cell_type": "code",
   "execution_count": null,
   "metadata": {},
   "outputs": [],
   "source": [
    "for year in range(year_start,2018):\n",
    "    del df_state[year]['NAICS Description']\n",
    "    df_state[year]['Total Employment'] = pd.to_numeric( df_state[year]['Total Employment'],downcast='integer',errors='coerce' )\n",
    "    df_state[year] = df_state[year].dropna()\n",
    "    df_state[year].set_index(['State','NAICS Code'],drop=True,inplace=True)\n",
    "    df_state[year].rename(columns= {'Total Employment':'Total Employment - '+str(year)} ,inplace=True)\n",
    "    #df_state[year].rename(columns= {'Total Employment':'Total Employment - '+str(year)} ,inplace=True)"
   ]
  },
  {
   "cell_type": "markdown",
   "metadata": {},
   "source": [
    "## Save the cleaned data"
   ]
  },
  {
   "cell_type": "code",
   "execution_count": null,
   "metadata": {},
   "outputs": [],
   "source": [
    "for year in range(1998,2018):\n",
    "    df[year].to_csv('data/cleaned/state_naicssector_cleanedv2_totEmploy_'+str(year)+'.csv',index=False)"
   ]
  },
  {
   "cell_type": "code",
   "execution_count": null,
   "metadata": {},
   "outputs": [],
   "source": []
  },
  {
   "cell_type": "code",
   "execution_count": null,
   "metadata": {},
   "outputs": [],
   "source": []
  },
  {
   "cell_type": "code",
   "execution_count": null,
   "metadata": {},
   "outputs": [],
   "source": []
  }
 ],
 "metadata": {
  "kernelspec": {
   "display_name": "Python 3",
   "language": "python",
   "name": "python3"
  },
  "language_info": {
   "codemirror_mode": {
    "name": "ipython",
    "version": 3
   },
   "file_extension": ".py",
   "mimetype": "text/x-python",
   "name": "python",
   "nbconvert_exporter": "python",
   "pygments_lexer": "ipython3",
   "version": "3.9.2"
  }
 },
 "nbformat": 4,
 "nbformat_minor": 4
}
